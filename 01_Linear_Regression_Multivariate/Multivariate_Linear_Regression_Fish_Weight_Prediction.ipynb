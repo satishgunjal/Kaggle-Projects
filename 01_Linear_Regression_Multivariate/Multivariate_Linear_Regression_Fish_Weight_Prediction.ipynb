{
  "nbformat": 4,
  "nbformat_minor": 0,
  "metadata": {
    "colab": {
      "name": "Multivariate_Linear_Regression_Fish_Weight_Prediction.ipynb",
      "provenance": [],
      "collapsed_sections": [],
      "toc_visible": true,
      "authorship_tag": "ABX9TyPlHk/RisUPZyUyAZBiRT4c",
      "include_colab_link": true
    },
    "kernelspec": {
      "name": "python3",
      "display_name": "Python 3"
    }
  },
  "cells": [
    {
      "cell_type": "markdown",
      "metadata": {
        "id": "view-in-github",
        "colab_type": "text"
      },
      "source": [
        "<a href=\"https://colab.research.google.com/github/satishgunjal/Kaggle-Projects/blob/master/01_Linear_Regression_Multivariate/Multivariate_Linear_Regression_Fish_Weight_Prediction.ipynb\" target=\"_parent\"><img src=\"https://colab.research.google.com/assets/colab-badge.svg\" alt=\"Open In Colab\"/></a>"
      ]
    },
    {
      "cell_type": "markdown",
      "metadata": {
        "id": "QlShQQRH3bJa",
        "colab_type": "text"
      },
      "source": [
        "# Introduction\n",
        " \n",
        "![header.png](https://raw.githubusercontent.com/satishgunjal/images/master/fish.png)\n",
        " \n",
        "In this study I will create a machine learning model to predict the weight of the fish based on the body measurement data of seven types of fish species. You can download the dataset from Kaggle. [Fish market](https://www.kaggle.com/aungpyaeap/fish-market)\n",
        " \n",
        "I am going to use Linear model from sklearn library. Since there are multiple features its **Multiple/Multivariate/Multi Variable Linear Regression** problem.\n",
        " \n",
        "I have documented the code and tried to explain every important concept or library I have using during this study. I hope it will be helpful.\n",
        " \n",
        "#kaggle #linearregression #multiplelinearregression #python\n",
        "\n"
      ]
    },
    {
      "cell_type": "markdown",
      "metadata": {
        "id": "h18vn8zF7UKc",
        "colab_type": "text"
      },
      "source": [
        "# Step 1: Import The Required Libraries\n",
        "* numpy : Numpy is the core library for scientific computing in Python. It is used for working with arrays and matrices.\n",
        "* pandas: Used for data manipulation and analysis\n",
        "* matplotlib : It’s plotting library, and we are going to use it for data visualization\n",
        "* seaborn : It is also data visualization library, based on matplotlib\n",
        "* linear_model: Sklearn linear regression model\n",
        "* train_test_split : helper function from Sklearn library for splitting the dataset"
      ]
    },
    {
      "cell_type": "code",
      "metadata": {
        "id": "_Xb4p1L1kfpG",
        "colab_type": "code",
        "colab": {
          "base_uri": "https://localhost:8080/",
          "height": 72
        },
        "outputId": "c2c997eb-6923-4772-8986-7159fb493707"
      },
      "source": [
        "import numpy as np\n",
        "import pandas as pd\n",
        "import matplotlib.pyplot as plt\n",
        "import seaborn as sns\n",
        "from sklearn import linear_model\n",
        "from sklearn.model_selection import train_test_split"
      ],
      "execution_count": 1,
      "outputs": [
        {
          "output_type": "stream",
          "text": [
            "/usr/local/lib/python3.6/dist-packages/statsmodels/tools/_testing.py:19: FutureWarning: pandas.util.testing is deprecated. Use the functions in the public API at pandas.testing instead.\n",
            "  import pandas.util.testing as tm\n"
          ],
          "name": "stderr"
        }
      ]
    },
    {
      "cell_type": "markdown",
      "metadata": {
        "id": "uCTOBCb17ew-",
        "colab_type": "text"
      },
      "source": [
        "# Step 2: Load The Data"
      ]
    },
    {
      "cell_type": "code",
      "metadata": {
        "id": "3m4mPRCi8714",
        "colab_type": "code",
        "outputId": "2e6ddaed-33be-4315-f552-42b60b4bc0ed",
        "colab": {
          "base_uri": "https://localhost:8080/",
          "height": 219
        }
      },
      "source": [
        "df = pd.read_csv(\"https://raw.githubusercontent.com/satishgunjal/datasets/master/Fish.csv\")\n",
        "print('Shape of dataset= ', df.shape) # To get no of rows and columns\n",
        "df.head(5) # head(n) returns first n records only. Can also use sample(n) for random n records."
      ],
      "execution_count": 2,
      "outputs": [
        {
          "output_type": "stream",
          "text": [
            "Shape of dataset=  (159, 7)\n"
          ],
          "name": "stdout"
        },
        {
          "output_type": "execute_result",
          "data": {
            "text/html": [
              "<div>\n",
              "<style scoped>\n",
              "    .dataframe tbody tr th:only-of-type {\n",
              "        vertical-align: middle;\n",
              "    }\n",
              "\n",
              "    .dataframe tbody tr th {\n",
              "        vertical-align: top;\n",
              "    }\n",
              "\n",
              "    .dataframe thead th {\n",
              "        text-align: right;\n",
              "    }\n",
              "</style>\n",
              "<table border=\"1\" class=\"dataframe\">\n",
              "  <thead>\n",
              "    <tr style=\"text-align: right;\">\n",
              "      <th></th>\n",
              "      <th>Species</th>\n",
              "      <th>Weight</th>\n",
              "      <th>Length1</th>\n",
              "      <th>Length2</th>\n",
              "      <th>Length3</th>\n",
              "      <th>Height</th>\n",
              "      <th>Width</th>\n",
              "    </tr>\n",
              "  </thead>\n",
              "  <tbody>\n",
              "    <tr>\n",
              "      <th>0</th>\n",
              "      <td>Bream</td>\n",
              "      <td>242.0</td>\n",
              "      <td>23.2</td>\n",
              "      <td>25.4</td>\n",
              "      <td>30.0</td>\n",
              "      <td>11.5200</td>\n",
              "      <td>4.0200</td>\n",
              "    </tr>\n",
              "    <tr>\n",
              "      <th>1</th>\n",
              "      <td>Bream</td>\n",
              "      <td>290.0</td>\n",
              "      <td>24.0</td>\n",
              "      <td>26.3</td>\n",
              "      <td>31.2</td>\n",
              "      <td>12.4800</td>\n",
              "      <td>4.3056</td>\n",
              "    </tr>\n",
              "    <tr>\n",
              "      <th>2</th>\n",
              "      <td>Bream</td>\n",
              "      <td>340.0</td>\n",
              "      <td>23.9</td>\n",
              "      <td>26.5</td>\n",
              "      <td>31.1</td>\n",
              "      <td>12.3778</td>\n",
              "      <td>4.6961</td>\n",
              "    </tr>\n",
              "    <tr>\n",
              "      <th>3</th>\n",
              "      <td>Bream</td>\n",
              "      <td>363.0</td>\n",
              "      <td>26.3</td>\n",
              "      <td>29.0</td>\n",
              "      <td>33.5</td>\n",
              "      <td>12.7300</td>\n",
              "      <td>4.4555</td>\n",
              "    </tr>\n",
              "    <tr>\n",
              "      <th>4</th>\n",
              "      <td>Bream</td>\n",
              "      <td>430.0</td>\n",
              "      <td>26.5</td>\n",
              "      <td>29.0</td>\n",
              "      <td>34.0</td>\n",
              "      <td>12.4440</td>\n",
              "      <td>5.1340</td>\n",
              "    </tr>\n",
              "  </tbody>\n",
              "</table>\n",
              "</div>"
            ],
            "text/plain": [
              "  Species  Weight  Length1  Length2  Length3   Height   Width\n",
              "0   Bream   242.0     23.2     25.4     30.0  11.5200  4.0200\n",
              "1   Bream   290.0     24.0     26.3     31.2  12.4800  4.3056\n",
              "2   Bream   340.0     23.9     26.5     31.1  12.3778  4.6961\n",
              "3   Bream   363.0     26.3     29.0     33.5  12.7300  4.4555\n",
              "4   Bream   430.0     26.5     29.0     34.0  12.4440  5.1340"
            ]
          },
          "metadata": {
            "tags": []
          },
          "execution_count": 2
        }
      ]
    },
    {
      "cell_type": "markdown",
      "metadata": {
        "id": "fNCvgxfG7g5v",
        "colab_type": "text"
      },
      "source": [
        " \n",
        "# Step 3: Understand The Data\n",
        "* There are total 159 rows(training samples) and 7 columns in dataset. \n",
        "* Each column details are as below \n",
        " \n",
        "| Column Name | Details\n",
        "| ------------|--------------\n",
        "| Species     | Species name of fish \n",
        "| Weight      | Weight of fish in gram     \n",
        "| Length1     | Vertical length in CM\n",
        "| Length2     | Diagonal length in CM\n",
        "| Length3     | Cross length in CM\n",
        "| Height      | Height in CM\n",
        "| Width       | Diagonal width in CM   \n",
        " \n",
        "* Features/input values/independent variables are 'Species', 'Length1','Length2', 'Length3', 'Height' and 'Width'\n",
        "* Target/output value/dependent variable is 'Weight'\n",
        "* So, we have to estimate the weight of the fish based on its measurement values.\n",
        " \n",
        "Let's change the name of columns lenght1,length2 and length3  as per the content of it."
      ]
    },
    {
      "cell_type": "code",
      "metadata": {
        "id": "33YwCfivE3B0",
        "colab_type": "code",
        "outputId": "04ff40d2-ad49-4c7c-8e76-51b67863463d",
        "colab": {
          "base_uri": "https://localhost:8080/",
          "height": 202
        }
      },
      "source": [
        "df.rename(columns={'Length1':'VerticalLen','Length2':'DiagonalLen','Length3':'CrossLen'},inplace = True) # 'inplace= true' to make change in current dataframe\n",
        "df.sample(5) # Display random 5 records"
      ],
      "execution_count": 3,
      "outputs": [
        {
          "output_type": "execute_result",
          "data": {
            "text/html": [
              "<div>\n",
              "<style scoped>\n",
              "    .dataframe tbody tr th:only-of-type {\n",
              "        vertical-align: middle;\n",
              "    }\n",
              "\n",
              "    .dataframe tbody tr th {\n",
              "        vertical-align: top;\n",
              "    }\n",
              "\n",
              "    .dataframe thead th {\n",
              "        text-align: right;\n",
              "    }\n",
              "</style>\n",
              "<table border=\"1\" class=\"dataframe\">\n",
              "  <thead>\n",
              "    <tr style=\"text-align: right;\">\n",
              "      <th></th>\n",
              "      <th>Species</th>\n",
              "      <th>Weight</th>\n",
              "      <th>VerticalLen</th>\n",
              "      <th>DiagonalLen</th>\n",
              "      <th>CrossLen</th>\n",
              "      <th>Height</th>\n",
              "      <th>Width</th>\n",
              "    </tr>\n",
              "  </thead>\n",
              "  <tbody>\n",
              "    <tr>\n",
              "      <th>109</th>\n",
              "      <td>Perch</td>\n",
              "      <td>514.0</td>\n",
              "      <td>30.5</td>\n",
              "      <td>32.8</td>\n",
              "      <td>34.0</td>\n",
              "      <td>10.0300</td>\n",
              "      <td>6.0180</td>\n",
              "    </tr>\n",
              "    <tr>\n",
              "      <th>106</th>\n",
              "      <td>Perch</td>\n",
              "      <td>250.0</td>\n",
              "      <td>25.9</td>\n",
              "      <td>28.0</td>\n",
              "      <td>29.4</td>\n",
              "      <td>7.8204</td>\n",
              "      <td>4.2042</td>\n",
              "    </tr>\n",
              "    <tr>\n",
              "      <th>89</th>\n",
              "      <td>Perch</td>\n",
              "      <td>135.0</td>\n",
              "      <td>20.0</td>\n",
              "      <td>22.0</td>\n",
              "      <td>23.5</td>\n",
              "      <td>5.8750</td>\n",
              "      <td>3.5250</td>\n",
              "    </tr>\n",
              "    <tr>\n",
              "      <th>82</th>\n",
              "      <td>Perch</td>\n",
              "      <td>110.0</td>\n",
              "      <td>19.0</td>\n",
              "      <td>21.0</td>\n",
              "      <td>22.5</td>\n",
              "      <td>5.6925</td>\n",
              "      <td>3.5550</td>\n",
              "    </tr>\n",
              "    <tr>\n",
              "      <th>146</th>\n",
              "      <td>Smelt</td>\n",
              "      <td>7.5</td>\n",
              "      <td>10.0</td>\n",
              "      <td>10.5</td>\n",
              "      <td>11.6</td>\n",
              "      <td>1.9720</td>\n",
              "      <td>1.1600</td>\n",
              "    </tr>\n",
              "  </tbody>\n",
              "</table>\n",
              "</div>"
            ],
            "text/plain": [
              "    Species  Weight  VerticalLen  DiagonalLen  CrossLen   Height   Width\n",
              "109   Perch   514.0         30.5         32.8      34.0  10.0300  6.0180\n",
              "106   Perch   250.0         25.9         28.0      29.4   7.8204  4.2042\n",
              "89    Perch   135.0         20.0         22.0      23.5   5.8750  3.5250\n",
              "82    Perch   110.0         19.0         21.0      22.5   5.6925  3.5550\n",
              "146   Smelt     7.5         10.0         10.5      11.6   1.9720  1.1600"
            ]
          },
          "metadata": {
            "tags": []
          },
          "execution_count": 3
        }
      ]
    },
    {
      "cell_type": "markdown",
      "metadata": {
        "id": "NKlZ8-mOdly3",
        "colab_type": "text"
      },
      "source": [
        "Let's print the detailed information about our dataset"
      ]
    },
    {
      "cell_type": "code",
      "metadata": {
        "id": "zgZ4C8qwcl6E",
        "colab_type": "code",
        "outputId": "9aa9867c-f34e-4161-93f3-f2e474314d35",
        "colab": {
          "base_uri": "https://localhost:8080/",
          "height": 260
        }
      },
      "source": [
        "df.info()"
      ],
      "execution_count": 4,
      "outputs": [
        {
          "output_type": "stream",
          "text": [
            "<class 'pandas.core.frame.DataFrame'>\n",
            "RangeIndex: 159 entries, 0 to 158\n",
            "Data columns (total 7 columns):\n",
            " #   Column       Non-Null Count  Dtype  \n",
            "---  ------       --------------  -----  \n",
            " 0   Species      159 non-null    object \n",
            " 1   Weight       159 non-null    float64\n",
            " 2   VerticalLen  159 non-null    float64\n",
            " 3   DiagonalLen  159 non-null    float64\n",
            " 4   CrossLen     159 non-null    float64\n",
            " 5   Height       159 non-null    float64\n",
            " 6   Width        159 non-null    float64\n",
            "dtypes: float64(6), object(1)\n",
            "memory usage: 8.8+ KB\n"
          ],
          "name": "stdout"
        }
      ]
    },
    {
      "cell_type": "markdown",
      "metadata": {
        "id": "dxTO90Zdb3cN",
        "colab_type": "text"
      },
      "source": [
        "# Step 4: Data Analysis, Cleaning and Visualization\n",
        "\n",
        "## Check for missing values"
      ]
    },
    {
      "cell_type": "code",
      "metadata": {
        "id": "uego-J6be3gQ",
        "colab_type": "code",
        "outputId": "b3169acb-fa9a-4b55-af62-533cce037bd1",
        "colab": {
          "base_uri": "https://localhost:8080/",
          "height": 156
        }
      },
      "source": [
        "# isna() will return 'True' is value is 'None' or 'numpy.NaN'\n",
        "# Characters such as empty strings '' or 'numpy.inf' are not considered NA values (unless you set pandas.options.mode.use_inf_as_na = True)\n",
        "# you can also use df.isnull()\n",
        "df.isna().sum() # Get sum of all Nan values from each column\n",
        "#df.isna().values.any()  "
      ],
      "execution_count": 5,
      "outputs": [
        {
          "output_type": "execute_result",
          "data": {
            "text/plain": [
              "Species        0\n",
              "Weight         0\n",
              "VerticalLen    0\n",
              "DiagonalLen    0\n",
              "CrossLen       0\n",
              "Height         0\n",
              "Width          0\n",
              "dtype: int64"
            ]
          },
          "metadata": {
            "tags": []
          },
          "execution_count": 5
        }
      ]
    },
    {
      "cell_type": "markdown",
      "metadata": {
        "id": "FzuoNf_DYMfE",
        "colab_type": "text"
      },
      "source": [
        "Good, there no null values in our dataset."
      ]
    },
    {
      "cell_type": "markdown",
      "metadata": {
        "id": "RODhV3_VicXK",
        "colab_type": "text"
      },
      "source": [
        "## Get count for each species"
      ]
    },
    {
      "cell_type": "code",
      "metadata": {
        "id": "c8GVHtc0iz5E",
        "colab_type": "code",
        "outputId": "0331c456-6a77-41ee-bfeb-1a8d53d679ed",
        "colab": {
          "base_uri": "https://localhost:8080/",
          "height": 156
        }
      },
      "source": [
        "df.Species.value_counts()"
      ],
      "execution_count": 6,
      "outputs": [
        {
          "output_type": "execute_result",
          "data": {
            "text/plain": [
              "Perch        56\n",
              "Bream        35\n",
              "Roach        20\n",
              "Pike         17\n",
              "Smelt        14\n",
              "Parkki       11\n",
              "Whitefish     6\n",
              "Name: Species, dtype: int64"
            ]
          },
          "metadata": {
            "tags": []
          },
          "execution_count": 6
        }
      ]
    },
    {
      "cell_type": "markdown",
      "metadata": {
        "id": "vAbr6N93l3Vw",
        "colab_type": "text"
      },
      "source": [
        "Above function gives us required values but lets create dataframe for species so that we can use it for better visualization"
      ]
    },
    {
      "cell_type": "code",
      "metadata": {
        "id": "rbwcMHlUkuS9",
        "colab_type": "code",
        "outputId": "3c0ffb56-7e2d-466e-f21a-37972dff9741",
        "colab": {
          "base_uri": "https://localhost:8080/",
          "height": 263
        }
      },
      "source": [
        "df_sp = df.Species.value_counts()\n",
        "df_sp = pd.DataFrame(df_sp)\n",
        "df_sp\n",
        "# Or for better visualization we can use...\n",
        "# df_sp.T # Just like matrices. 'dataframe.T' will Transpose index and columns"
      ],
      "execution_count": 7,
      "outputs": [
        {
          "output_type": "execute_result",
          "data": {
            "text/html": [
              "<div>\n",
              "<style scoped>\n",
              "    .dataframe tbody tr th:only-of-type {\n",
              "        vertical-align: middle;\n",
              "    }\n",
              "\n",
              "    .dataframe tbody tr th {\n",
              "        vertical-align: top;\n",
              "    }\n",
              "\n",
              "    .dataframe thead th {\n",
              "        text-align: right;\n",
              "    }\n",
              "</style>\n",
              "<table border=\"1\" class=\"dataframe\">\n",
              "  <thead>\n",
              "    <tr style=\"text-align: right;\">\n",
              "      <th></th>\n",
              "      <th>Species</th>\n",
              "    </tr>\n",
              "  </thead>\n",
              "  <tbody>\n",
              "    <tr>\n",
              "      <th>Perch</th>\n",
              "      <td>56</td>\n",
              "    </tr>\n",
              "    <tr>\n",
              "      <th>Bream</th>\n",
              "      <td>35</td>\n",
              "    </tr>\n",
              "    <tr>\n",
              "      <th>Roach</th>\n",
              "      <td>20</td>\n",
              "    </tr>\n",
              "    <tr>\n",
              "      <th>Pike</th>\n",
              "      <td>17</td>\n",
              "    </tr>\n",
              "    <tr>\n",
              "      <th>Smelt</th>\n",
              "      <td>14</td>\n",
              "    </tr>\n",
              "    <tr>\n",
              "      <th>Parkki</th>\n",
              "      <td>11</td>\n",
              "    </tr>\n",
              "    <tr>\n",
              "      <th>Whitefish</th>\n",
              "      <td>6</td>\n",
              "    </tr>\n",
              "  </tbody>\n",
              "</table>\n",
              "</div>"
            ],
            "text/plain": [
              "           Species\n",
              "Perch           56\n",
              "Bream           35\n",
              "Roach           20\n",
              "Pike            17\n",
              "Smelt           14\n",
              "Parkki          11\n",
              "Whitefish        6"
            ]
          },
          "metadata": {
            "tags": []
          },
          "execution_count": 7
        }
      ]
    },
    {
      "cell_type": "code",
      "metadata": {
        "id": "PfJAGhYCkBeC",
        "colab_type": "code",
        "outputId": "0930132a-9cb3-4bbe-bb06-4ca9e8b2437f",
        "colab": {
          "base_uri": "https://localhost:8080/",
          "height": 295
        }
      },
      "source": [
        "sns.barplot(x= df_sp.index, y = df_sp.Species) # df_sp.index will returns row labels of dataframe\n",
        "plt.xlabel('Species')\n",
        "plt.ylabel('Count of Species')\n",
        "plt.rcParams[\"figure.figsize\"] = (10,6)\n",
        "plt.title('Fish Count Based On Species')\n",
        "plt.show()"
      ],
      "execution_count": 8,
      "outputs": [
        {
          "output_type": "display_data",
          "data": {
            "image/png": "[encoded data removed]",
            "text/plain": [
              "<Figure size 432x288 with 1 Axes>"
            ]
          },
          "metadata": {
            "tags": [],
            "needs_background": "light"
          }
        }
      ]
    },
    {
      "cell_type": "markdown",
      "metadata": {
        "id": "HSAZ4OXwZNgu",
        "colab_type": "text"
      },
      "source": [
        "## Important Points\n",
        " \n",
        "* As you can see our dataset is very small. We have only 6 training example for 'Whitefish' species. \n",
        "* Ideal approach would be to divide the dataset and do the prediction for each species. But since we don't have enough data we will ignore the different species during our analysis.\n",
        " \n",
        "\n"
      ]
    },
    {
      "cell_type": "markdown",
      "metadata": {
        "id": "SX0TXEGha8fG",
        "colab_type": "text"
      },
      "source": [
        "## Using Domain Knowledge For Data Cleaning\n",
        "* Depending on the maximum and minimum weight of fish for each species we can very easily remove the outliers. But because of limited data we are going to ignore the individual species and treat them as one. \n",
        "* Now lets use some common sense and find and remove the training data where weight of fish is 0 or negative\n",
        "\n"
      ]
    },
    {
      "cell_type": "code",
      "metadata": {
        "id": "c2dqluVpfVkp",
        "colab_type": "code",
        "outputId": "90fbccf3-8cce-409a-9650-90090b5ea1b4",
        "colab": {
          "base_uri": "https://localhost:8080/",
          "height": 79
        }
      },
      "source": [
        "df[df.Weight <= 0]"
      ],
      "execution_count": 9,
      "outputs": [
        {
          "output_type": "execute_result",
          "data": {
            "text/html": [
              "<div>\n",
              "<style scoped>\n",
              "    .dataframe tbody tr th:only-of-type {\n",
              "        vertical-align: middle;\n",
              "    }\n",
              "\n",
              "    .dataframe tbody tr th {\n",
              "        vertical-align: top;\n",
              "    }\n",
              "\n",
              "    .dataframe thead th {\n",
              "        text-align: right;\n",
              "    }\n",
              "</style>\n",
              "<table border=\"1\" class=\"dataframe\">\n",
              "  <thead>\n",
              "    <tr style=\"text-align: right;\">\n",
              "      <th></th>\n",
              "      <th>Species</th>\n",
              "      <th>Weight</th>\n",
              "      <th>VerticalLen</th>\n",
              "      <th>DiagonalLen</th>\n",
              "      <th>CrossLen</th>\n",
              "      <th>Height</th>\n",
              "      <th>Width</th>\n",
              "    </tr>\n",
              "  </thead>\n",
              "  <tbody>\n",
              "    <tr>\n",
              "      <th>40</th>\n",
              "      <td>Roach</td>\n",
              "      <td>0.0</td>\n",
              "      <td>19.0</td>\n",
              "      <td>20.5</td>\n",
              "      <td>22.8</td>\n",
              "      <td>6.4752</td>\n",
              "      <td>3.3516</td>\n",
              "    </tr>\n",
              "  </tbody>\n",
              "</table>\n",
              "</div>"
            ],
            "text/plain": [
              "   Species  Weight  VerticalLen  DiagonalLen  CrossLen  Height   Width\n",
              "40   Roach     0.0         19.0         20.5      22.8  6.4752  3.3516"
            ]
          },
          "metadata": {
            "tags": []
          },
          "execution_count": 9
        }
      ]
    },
    {
      "cell_type": "markdown",
      "metadata": {
        "id": "5bcFcEfTiQlL",
        "colab_type": "text"
      },
      "source": [
        "Lets drop the training data at row 40.\n",
        "Note: Anytime we make changes in dataframe we are going to increament the dataframe name by 1."
      ]
    },
    {
      "cell_type": "code",
      "metadata": {
        "id": "JzHNspl3ihVD",
        "colab_type": "code",
        "outputId": "9fd6e867-c47e-48c6-ccf9-646947e05687",
        "colab": {
          "base_uri": "https://localhost:8080/",
          "height": 219
        }
      },
      "source": [
        "df1 = df.drop([40])\n",
        "print('New dimension of dataset is= ', df1.shape)\n",
        "df1.head(5)"
      ],
      "execution_count": 10,
      "outputs": [
        {
          "output_type": "stream",
          "text": [
            "New dimension of dataset is=  (158, 7)\n"
          ],
          "name": "stdout"
        },
        {
          "output_type": "execute_result",
          "data": {
            "text/html": [
              "<div>\n",
              "<style scoped>\n",
              "    .dataframe tbody tr th:only-of-type {\n",
              "        vertical-align: middle;\n",
              "    }\n",
              "\n",
              "    .dataframe tbody tr th {\n",
              "        vertical-align: top;\n",
              "    }\n",
              "\n",
              "    .dataframe thead th {\n",
              "        text-align: right;\n",
              "    }\n",
              "</style>\n",
              "<table border=\"1\" class=\"dataframe\">\n",
              "  <thead>\n",
              "    <tr style=\"text-align: right;\">\n",
              "      <th></th>\n",
              "      <th>Species</th>\n",
              "      <th>Weight</th>\n",
              "      <th>VerticalLen</th>\n",
              "      <th>DiagonalLen</th>\n",
              "      <th>CrossLen</th>\n",
              "      <th>Height</th>\n",
              "      <th>Width</th>\n",
              "    </tr>\n",
              "  </thead>\n",
              "  <tbody>\n",
              "    <tr>\n",
              "      <th>0</th>\n",
              "      <td>Bream</td>\n",
              "      <td>242.0</td>\n",
              "      <td>23.2</td>\n",
              "      <td>25.4</td>\n",
              "      <td>30.0</td>\n",
              "      <td>11.5200</td>\n",
              "      <td>4.0200</td>\n",
              "    </tr>\n",
              "    <tr>\n",
              "      <th>1</th>\n",
              "      <td>Bream</td>\n",
              "      <td>290.0</td>\n",
              "      <td>24.0</td>\n",
              "      <td>26.3</td>\n",
              "      <td>31.2</td>\n",
              "      <td>12.4800</td>\n",
              "      <td>4.3056</td>\n",
              "    </tr>\n",
              "    <tr>\n",
              "      <th>2</th>\n",
              "      <td>Bream</td>\n",
              "      <td>340.0</td>\n",
              "      <td>23.9</td>\n",
              "      <td>26.5</td>\n",
              "      <td>31.1</td>\n",
              "      <td>12.3778</td>\n",
              "      <td>4.6961</td>\n",
              "    </tr>\n",
              "    <tr>\n",
              "      <th>3</th>\n",
              "      <td>Bream</td>\n",
              "      <td>363.0</td>\n",
              "      <td>26.3</td>\n",
              "      <td>29.0</td>\n",
              "      <td>33.5</td>\n",
              "      <td>12.7300</td>\n",
              "      <td>4.4555</td>\n",
              "    </tr>\n",
              "    <tr>\n",
              "      <th>4</th>\n",
              "      <td>Bream</td>\n",
              "      <td>430.0</td>\n",
              "      <td>26.5</td>\n",
              "      <td>29.0</td>\n",
              "      <td>34.0</td>\n",
              "      <td>12.4440</td>\n",
              "      <td>5.1340</td>\n",
              "    </tr>\n",
              "  </tbody>\n",
              "</table>\n",
              "</div>"
            ],
            "text/plain": [
              "  Species  Weight  VerticalLen  DiagonalLen  CrossLen   Height   Width\n",
              "0   Bream   242.0         23.2         25.4      30.0  11.5200  4.0200\n",
              "1   Bream   290.0         24.0         26.3      31.2  12.4800  4.3056\n",
              "2   Bream   340.0         23.9         26.5      31.1  12.3778  4.6961\n",
              "3   Bream   363.0         26.3         29.0      33.5  12.7300  4.4555\n",
              "4   Bream   430.0         26.5         29.0      34.0  12.4440  5.1340"
            ]
          },
          "metadata": {
            "tags": []
          },
          "execution_count": 10
        }
      ]
    },
    {
      "cell_type": "markdown",
      "metadata": {
        "id": "vESdS91xsrwt",
        "colab_type": "text"
      },
      "source": [
        "## Correlation Check\n",
        "* Correlation helps us investigate and establish relationships between variables\n",
        "* Note that high amount of correlation between independent variables suggest that linear regression estimation will be unreliable\n"
      ]
    },
    {
      "cell_type": "code",
      "metadata": {
        "id": "eHkBxzCapaYv",
        "colab_type": "code",
        "outputId": "5bad98d6-d00f-4bd7-f364-b6a59bd6e198",
        "colab": {
          "base_uri": "https://localhost:8080/",
          "height": 233
        }
      },
      "source": [
        "df1.corr()"
      ],
      "execution_count": 11,
      "outputs": [
        {
          "output_type": "execute_result",
          "data": {
            "text/html": [
              "<div>\n",
              "<style scoped>\n",
              "    .dataframe tbody tr th:only-of-type {\n",
              "        vertical-align: middle;\n",
              "    }\n",
              "\n",
              "    .dataframe tbody tr th {\n",
              "        vertical-align: top;\n",
              "    }\n",
              "\n",
              "    .dataframe thead th {\n",
              "        text-align: right;\n",
              "    }\n",
              "</style>\n",
              "<table border=\"1\" class=\"dataframe\">\n",
              "  <thead>\n",
              "    <tr style=\"text-align: right;\">\n",
              "      <th></th>\n",
              "      <th>Weight</th>\n",
              "      <th>VerticalLen</th>\n",
              "      <th>DiagonalLen</th>\n",
              "      <th>CrossLen</th>\n",
              "      <th>Height</th>\n",
              "      <th>Width</th>\n",
              "    </tr>\n",
              "  </thead>\n",
              "  <tbody>\n",
              "    <tr>\n",
              "      <th>Weight</th>\n",
              "      <td>1.000000</td>\n",
              "      <td>0.915719</td>\n",
              "      <td>0.918603</td>\n",
              "      <td>0.923090</td>\n",
              "      <td>0.723857</td>\n",
              "      <td>0.886654</td>\n",
              "    </tr>\n",
              "    <tr>\n",
              "      <th>VerticalLen</th>\n",
              "      <td>0.915719</td>\n",
              "      <td>1.000000</td>\n",
              "      <td>0.999516</td>\n",
              "      <td>0.992004</td>\n",
              "      <td>0.624409</td>\n",
              "      <td>0.866684</td>\n",
              "    </tr>\n",
              "    <tr>\n",
              "      <th>DiagonalLen</th>\n",
              "      <td>0.918603</td>\n",
              "      <td>0.999516</td>\n",
              "      <td>1.000000</td>\n",
              "      <td>0.994083</td>\n",
              "      <td>0.639503</td>\n",
              "      <td>0.873201</td>\n",
              "    </tr>\n",
              "    <tr>\n",
              "      <th>CrossLen</th>\n",
              "      <td>0.923090</td>\n",
              "      <td>0.992004</td>\n",
              "      <td>0.994083</td>\n",
              "      <td>1.000000</td>\n",
              "      <td>0.702655</td>\n",
              "      <td>0.878189</td>\n",
              "    </tr>\n",
              "    <tr>\n",
              "      <th>Height</th>\n",
              "      <td>0.723857</td>\n",
              "      <td>0.624409</td>\n",
              "      <td>0.639503</td>\n",
              "      <td>0.702655</td>\n",
              "      <td>1.000000</td>\n",
              "      <td>0.792401</td>\n",
              "    </tr>\n",
              "    <tr>\n",
              "      <th>Width</th>\n",
              "      <td>0.886654</td>\n",
              "      <td>0.866684</td>\n",
              "      <td>0.873201</td>\n",
              "      <td>0.878189</td>\n",
              "      <td>0.792401</td>\n",
              "      <td>1.000000</td>\n",
              "    </tr>\n",
              "  </tbody>\n",
              "</table>\n",
              "</div>"
            ],
            "text/plain": [
              "               Weight  VerticalLen  DiagonalLen  CrossLen    Height     Width\n",
              "Weight       1.000000     0.915719     0.918603  0.923090  0.723857  0.886654\n",
              "VerticalLen  0.915719     1.000000     0.999516  0.992004  0.624409  0.866684\n",
              "DiagonalLen  0.918603     0.999516     1.000000  0.994083  0.639503  0.873201\n",
              "CrossLen     0.923090     0.992004     0.994083  1.000000  0.702655  0.878189\n",
              "Height       0.723857     0.624409     0.639503  0.702655  1.000000  0.792401\n",
              "Width        0.886654     0.866684     0.873201  0.878189  0.792401  1.000000"
            ]
          },
          "metadata": {
            "tags": []
          },
          "execution_count": 11
        }
      ]
    },
    {
      "cell_type": "code",
      "metadata": {
        "id": "EVCH69bRmY7c",
        "colab_type": "code",
        "outputId": "c787a280-8453-43fd-901d-513f37edb9cb",
        "colab": {
          "base_uri": "https://localhost:8080/",
          "height": 407
        }
      },
      "source": [
        "plt.rcParams[\"figure.figsize\"] = (10,6) # Custom figure size in inches\n",
        "sns.heatmap(df1.corr(), annot =True)\n",
        "plt.title('Correlation Matrix')"
      ],
      "execution_count": 12,
      "outputs": [
        {
          "output_type": "execute_result",
          "data": {
            "text/plain": [
              "Text(0.5, 1.0, 'Correlation Matrix')"
            ]
          },
          "metadata": {
            "tags": []
          },
          "execution_count": 12
        },
        {
          "output_type": "display_data",
          "data": {
            "image/png": "[encoded data removed]",
            "text/plain": [
              "<Figure size 720x432 with 2 Axes>"
            ]
          },
          "metadata": {
            "tags": [],
            "needs_background": "light"
          }
        }
      ]
    },
    {
      "cell_type": "markdown",
      "metadata": {
        "id": "9uzX59CWoM3H",
        "colab_type": "text"
      },
      "source": [
        "## Reading Correlation Matrix \n",
        "* Correlation coefficient range from -1 to +1\n",
        "* Sign(+/-) indicate the direction and amount indicate the strength of correlation\n",
        "* +1.00 means perfect positive relationship\n",
        "* 0.00 means no relationship\n",
        "* -1.00 means perfect negative relationship\n",
        "* The correlation between 'VerticalLen', 'DiagonalLen' and 'Crosslen' is almost 1. This will cause 'Multicolinearity' and if we don't take care of it, it may lead to unreliable predictions.\n",
        " \n",
        "Let's drop the 'VerticalLen', 'DiagonalLen' and 'Crosslen' column.\n",
        " \n",
        "\n"
      ]
    },
    {
      "cell_type": "code",
      "metadata": {
        "id": "oKCcFbM_pfCc",
        "colab_type": "code",
        "outputId": "26906c4f-816f-4435-9723-822694dcbc74",
        "colab": {
          "base_uri": "https://localhost:8080/",
          "height": 219
        }
      },
      "source": [
        "df2 = df1.drop(['VerticalLen', 'DiagonalLen', 'CrossLen'], axis =1) # Can also use axis = 'columns'\n",
        "print('New dimension of dataset is= ', df2.shape)\n",
        "df2.head()"
      ],
      "execution_count": 13,
      "outputs": [
        {
          "output_type": "stream",
          "text": [
            "New dimension of dataset is=  (158, 4)\n"
          ],
          "name": "stdout"
        },
        {
          "output_type": "execute_result",
          "data": {
            "text/html": [
              "<div>\n",
              "<style scoped>\n",
              "    .dataframe tbody tr th:only-of-type {\n",
              "        vertical-align: middle;\n",
              "    }\n",
              "\n",
              "    .dataframe tbody tr th {\n",
              "        vertical-align: top;\n",
              "    }\n",
              "\n",
              "    .dataframe thead th {\n",
              "        text-align: right;\n",
              "    }\n",
              "</style>\n",
              "<table border=\"1\" class=\"dataframe\">\n",
              "  <thead>\n",
              "    <tr style=\"text-align: right;\">\n",
              "      <th></th>\n",
              "      <th>Species</th>\n",
              "      <th>Weight</th>\n",
              "      <th>Height</th>\n",
              "      <th>Width</th>\n",
              "    </tr>\n",
              "  </thead>\n",
              "  <tbody>\n",
              "    <tr>\n",
              "      <th>0</th>\n",
              "      <td>Bream</td>\n",
              "      <td>242.0</td>\n",
              "      <td>11.5200</td>\n",
              "      <td>4.0200</td>\n",
              "    </tr>\n",
              "    <tr>\n",
              "      <th>1</th>\n",
              "      <td>Bream</td>\n",
              "      <td>290.0</td>\n",
              "      <td>12.4800</td>\n",
              "      <td>4.3056</td>\n",
              "    </tr>\n",
              "    <tr>\n",
              "      <th>2</th>\n",
              "      <td>Bream</td>\n",
              "      <td>340.0</td>\n",
              "      <td>12.3778</td>\n",
              "      <td>4.6961</td>\n",
              "    </tr>\n",
              "    <tr>\n",
              "      <th>3</th>\n",
              "      <td>Bream</td>\n",
              "      <td>363.0</td>\n",
              "      <td>12.7300</td>\n",
              "      <td>4.4555</td>\n",
              "    </tr>\n",
              "    <tr>\n",
              "      <th>4</th>\n",
              "      <td>Bream</td>\n",
              "      <td>430.0</td>\n",
              "      <td>12.4440</td>\n",
              "      <td>5.1340</td>\n",
              "    </tr>\n",
              "  </tbody>\n",
              "</table>\n",
              "</div>"
            ],
            "text/plain": [
              "  Species  Weight   Height   Width\n",
              "0   Bream   242.0  11.5200  4.0200\n",
              "1   Bream   290.0  12.4800  4.3056\n",
              "2   Bream   340.0  12.3778  4.6961\n",
              "3   Bream   363.0  12.7300  4.4555\n",
              "4   Bream   430.0  12.4440  5.1340"
            ]
          },
          "metadata": {
            "tags": []
          },
          "execution_count": 13
        }
      ]
    },
    {
      "cell_type": "markdown",
      "metadata": {
        "id": "ZoEpxknWshMz",
        "colab_type": "text"
      },
      "source": [
        "## Visulization Using Pairplot"
      ]
    },
    {
      "cell_type": "code",
      "metadata": {
        "id": "4PPZgqUOqy3D",
        "colab_type": "code",
        "outputId": "d9f9363a-7d69-4756-e2ea-818f4f6ae67f",
        "colab": {
          "base_uri": "https://localhost:8080/",
          "height": 585
        }
      },
      "source": [
        "sns.pairplot(df2, kind = 'scatter', hue = 'Species')"
      ],
      "execution_count": 14,
      "outputs": [
        {
          "output_type": "execute_result",
          "data": {
            "text/plain": [
              "<seaborn.axisgrid.PairGrid at 0x7fd149c8fc18>"
            ]
          },
          "metadata": {
            "tags": []
          },
          "execution_count": 14
        },
        {
          "output_type": "display_data",
          "data": {
            "image/png": "[encoded data removed]",
            "text/plain": [
              "<Figure size 623.25x540 with 12 Axes>"
            ]
          },
          "metadata": {
            "tags": [],
            "needs_background": "light"
          }
        }
      ]
    },
    {
      "cell_type": "markdown",
      "metadata": {
        "id": "LytziM38ssjC",
        "colab_type": "text"
      },
      "source": [
        "From the above pair plot, we can see that there seems to be some correlations between  Height, Width and the Weight. Note that since we have multiple species the correlation between Height and Width of all species is not exactly linear with Weight.\n",
        " \n",
        "Now, since we have the final dataset ready lets analyze and remove the outliers if any\n",
        "\n"
      ]
    },
    {
      "cell_type": "markdown",
      "metadata": {
        "id": "UBrYJ7a4uALL",
        "colab_type": "text"
      },
      "source": [
        "## Outlier Detection and Removal\n",
        " \n",
        "* Outlier is an extremely high or extremely low value in our data\n",
        "* We use below formula to identify the outlier\n",
        "  ```\n",
        "    ( Greater than Q3 + 1.5 * IQR ) OR ( Lower than Q1 -1.5 * IQR )\n",
        " \n",
        "    where,\n",
        "    Q1  = First quartile\n",
        "    Q3  = Third quartile\n",
        "    IQR = Interquartile range (Q3 - Q1)\n",
        "  ```\n",
        " \n",
        "* Lets use box plot for outlier visualization. \n",
        "* Vertical line on the left side of box plot represent the 'min' value of dataset and vertical line on right side of box plot represent the 'max' value of dataset. Any value which is outside this range is outlier and represented by '*'\n",
        " \n",
        "\n"
      ]
    },
    {
      "cell_type": "code",
      "metadata": {
        "id": "vkTEpL8zhg5h",
        "colab_type": "code",
        "outputId": "f2d0fbd1-3597-46a3-a957-c7751e16da8d",
        "colab": {
          "base_uri": "https://localhost:8080/",
          "height": 421
        }
      },
      "source": [
        "sns.boxplot(x=df2['Weight'])\n",
        "plt.title('Outlier Detection based on Weight')"
      ],
      "execution_count": 15,
      "outputs": [
        {
          "output_type": "execute_result",
          "data": {
            "text/plain": [
              "Text(0.5, 1.0, 'Outlier Detection based on Weight')"
            ]
          },
          "metadata": {
            "tags": []
          },
          "execution_count": 15
        },
        {
          "output_type": "display_data",
          "data": {
            "image/png": "[encoded data removed]",
            "text/plain": [
              "<Figure size 720x432 with 1 Axes>"
            ]
          },
          "metadata": {
            "tags": [],
            "needs_background": "light"
          }
        }
      ]
    },
    {
      "cell_type": "markdown",
      "metadata": {
        "id": "BunMTfbUkS7q",
        "colab_type": "text"
      },
      "source": [
        "From above plot its clear that there are three outlier as per the 'Weight' data. Lets create a function to find the index of these outliers."
      ]
    },
    {
      "cell_type": "code",
      "metadata": {
        "id": "frKpH87nkt5_",
        "colab_type": "code",
        "colab": {}
      },
      "source": [
        "def outlier_detection(dataframe):\n",
        "  Q1 = dataframe.quantile(0.25)\n",
        "  Q3 = dataframe.quantile(0.75)\n",
        "  IQR = Q3 - Q1\n",
        "  upper_end = Q3 + 1.5 * IQR\n",
        "  lower_end = Q1 - 1.5 * IQR \n",
        "  outlier = dataframe[(dataframe > upper_end) | (dataframe < lower_end)]\n",
        "  return outlier"
      ],
      "execution_count": 0,
      "outputs": []
    },
    {
      "cell_type": "code",
      "metadata": {
        "id": "IASez8thmcZ-",
        "colab_type": "code",
        "outputId": "0b659c43-ea73-4732-ba7c-5798a6173c47",
        "colab": {
          "base_uri": "https://localhost:8080/",
          "height": 87
        }
      },
      "source": [
        "outlier_detection(df2['Weight'])"
      ],
      "execution_count": 17,
      "outputs": [
        {
          "output_type": "execute_result",
          "data": {
            "text/plain": [
              "142    1600.0\n",
              "143    1550.0\n",
              "144    1650.0\n",
              "Name: Weight, dtype: float64"
            ]
          },
          "metadata": {
            "tags": []
          },
          "execution_count": 17
        }
      ]
    },
    {
      "cell_type": "markdown",
      "metadata": {
        "id": "N6QBnRo_m5Dc",
        "colab_type": "text"
      },
      "source": [
        "So based on 'Weight' data, index 142, 143 and 144 are outliers\n",
        "\n",
        "Lets check for 'Height' data"
      ]
    },
    {
      "cell_type": "code",
      "metadata": {
        "id": "1sbpOphLnF9h",
        "colab_type": "code",
        "outputId": "6bcbba0a-9093-42bf-f2b8-9e6c84f6a18d",
        "colab": {
          "base_uri": "https://localhost:8080/",
          "height": 421
        }
      },
      "source": [
        "sns.boxplot(x =df2['Height'])\n",
        "plt.title('Outlier Detection based on Height')"
      ],
      "execution_count": 18,
      "outputs": [
        {
          "output_type": "execute_result",
          "data": {
            "text/plain": [
              "Text(0.5, 1.0, 'Outlier Detection based on Height')"
            ]
          },
          "metadata": {
            "tags": []
          },
          "execution_count": 18
        },
        {
          "output_type": "display_data",
          "data": {
            "image/png": "[encoded data removed]",
            "text/plain": [
              "<Figure size 720x432 with 1 Axes>"
            ]
          },
          "metadata": {
            "tags": [],
            "needs_background": "light"
          }
        }
      ]
    },
    {
      "cell_type": "markdown",
      "metadata": {
        "id": "Ro_Yl88tncye",
        "colab_type": "text"
      },
      "source": [
        "There is no outlier so no need to call 'outlier_detection()' function.\n",
        "\n",
        "Lets check for 'Width' data"
      ]
    },
    {
      "cell_type": "code",
      "metadata": {
        "id": "ahkF3_B8npHq",
        "colab_type": "code",
        "outputId": "5d12759e-a0a3-4c75-84f7-c95d79f1700d",
        "colab": {
          "base_uri": "https://localhost:8080/",
          "height": 421
        }
      },
      "source": [
        "sns.boxplot(x = df2['Width'])\n",
        "plt.title('Outlier Detection based on Width')"
      ],
      "execution_count": 19,
      "outputs": [
        {
          "output_type": "execute_result",
          "data": {
            "text/plain": [
              "Text(0.5, 1.0, 'Outlier Detection based on Width')"
            ]
          },
          "metadata": {
            "tags": []
          },
          "execution_count": 19
        },
        {
          "output_type": "display_data",
          "data": {
            "image/png": "[encoded data removed]",
            "text/plain": [
              "<Figure size 720x432 with 1 Axes>"
            ]
          },
          "metadata": {
            "tags": [],
            "needs_background": "light"
          }
        }
      ]
    },
    {
      "cell_type": "markdown",
      "metadata": {
        "id": "cVbYMSmCn20h",
        "colab_type": "text"
      },
      "source": [
        "There is no outlier so no need to call 'outlier_detection()' function."
      ]
    },
    {
      "cell_type": "code",
      "metadata": {
        "id": "5FhJElQCAtXA",
        "colab_type": "code",
        "outputId": "e3480b16-8862-4220-dc52-3104210b8575",
        "colab": {
          "base_uri": "https://localhost:8080/",
          "height": 35
        }
      },
      "source": [
        "df3 = df2.drop([142,143,144])\n",
        "df3.shape"
      ],
      "execution_count": 20,
      "outputs": [
        {
          "output_type": "execute_result",
          "data": {
            "text/plain": [
              "(155, 4)"
            ]
          },
          "metadata": {
            "tags": []
          },
          "execution_count": 20
        }
      ]
    },
    {
      "cell_type": "code",
      "metadata": {
        "id": "-Y9stSCxBQOM",
        "colab_type": "code",
        "outputId": "325ebf81-4ad9-497c-9b6c-b29d80d22f5e",
        "colab": {
          "base_uri": "https://localhost:8080/",
          "height": 141
        }
      },
      "source": [
        "df3.describe().T"
      ],
      "execution_count": 21,
      "outputs": [
        {
          "output_type": "execute_result",
          "data": {
            "text/html": [
              "<div>\n",
              "<style scoped>\n",
              "    .dataframe tbody tr th:only-of-type {\n",
              "        vertical-align: middle;\n",
              "    }\n",
              "\n",
              "    .dataframe tbody tr th {\n",
              "        vertical-align: top;\n",
              "    }\n",
              "\n",
              "    .dataframe thead th {\n",
              "        text-align: right;\n",
              "    }\n",
              "</style>\n",
              "<table border=\"1\" class=\"dataframe\">\n",
              "  <thead>\n",
              "    <tr style=\"text-align: right;\">\n",
              "      <th></th>\n",
              "      <th>count</th>\n",
              "      <th>mean</th>\n",
              "      <th>std</th>\n",
              "      <th>min</th>\n",
              "      <th>25%</th>\n",
              "      <th>50%</th>\n",
              "      <th>75%</th>\n",
              "      <th>max</th>\n",
              "    </tr>\n",
              "  </thead>\n",
              "  <tbody>\n",
              "    <tr>\n",
              "      <th>Weight</th>\n",
              "      <td>155.0</td>\n",
              "      <td>377.638065</td>\n",
              "      <td>319.144511</td>\n",
              "      <td>5.9000</td>\n",
              "      <td>120.00000</td>\n",
              "      <td>272.0000</td>\n",
              "      <td>615.00000</td>\n",
              "      <td>1250.000</td>\n",
              "    </tr>\n",
              "    <tr>\n",
              "      <th>Height</th>\n",
              "      <td>155.0</td>\n",
              "      <td>8.967102</td>\n",
              "      <td>4.333722</td>\n",
              "      <td>1.7284</td>\n",
              "      <td>5.92695</td>\n",
              "      <td>7.6800</td>\n",
              "      <td>12.37930</td>\n",
              "      <td>18.957</td>\n",
              "    </tr>\n",
              "    <tr>\n",
              "      <th>Width</th>\n",
              "      <td>155.0</td>\n",
              "      <td>4.382326</td>\n",
              "      <td>1.675564</td>\n",
              "      <td>1.0476</td>\n",
              "      <td>3.38565</td>\n",
              "      <td>4.2476</td>\n",
              "      <td>5.47275</td>\n",
              "      <td>8.142</td>\n",
              "    </tr>\n",
              "  </tbody>\n",
              "</table>\n",
              "</div>"
            ],
            "text/plain": [
              "        count        mean         std  ...       50%        75%       max\n",
              "Weight  155.0  377.638065  319.144511  ...  272.0000  615.00000  1250.000\n",
              "Height  155.0    8.967102    4.333722  ...    7.6800   12.37930    18.957\n",
              "Width   155.0    4.382326    1.675564  ...    4.2476    5.47275     8.142\n",
              "\n",
              "[3 rows x 8 columns]"
            ]
          },
          "metadata": {
            "tags": []
          },
          "execution_count": 21
        }
      ]
    },
    {
      "cell_type": "markdown",
      "metadata": {
        "id": "WWEwJYelBl9b",
        "colab_type": "text"
      },
      "source": [
        "# Step 5: Build Machine Learning Model"
      ]
    },
    {
      "cell_type": "markdown",
      "metadata": {
        "id": "xMfmEpLI3pyX",
        "colab_type": "text"
      },
      "source": [
        "## Create Feature Matrix X and Target Variable y"
      ]
    },
    {
      "cell_type": "code",
      "metadata": {
        "id": "wtFO5aBLB_Zj",
        "colab_type": "code",
        "outputId": "78847bf8-e8c8-4d7f-cb1c-a7d88f516ecd",
        "colab": {
          "base_uri": "https://localhost:8080/",
          "height": 202
        }
      },
      "source": [
        "#X = df3.iloc[:,[2,3]] # Select columns using column index\n",
        "X = df3[['Height','Width']] # Select columns using column name\n",
        "X.head()"
      ],
      "execution_count": 22,
      "outputs": [
        {
          "output_type": "execute_result",
          "data": {
            "text/html": [
              "<div>\n",
              "<style scoped>\n",
              "    .dataframe tbody tr th:only-of-type {\n",
              "        vertical-align: middle;\n",
              "    }\n",
              "\n",
              "    .dataframe tbody tr th {\n",
              "        vertical-align: top;\n",
              "    }\n",
              "\n",
              "    .dataframe thead th {\n",
              "        text-align: right;\n",
              "    }\n",
              "</style>\n",
              "<table border=\"1\" class=\"dataframe\">\n",
              "  <thead>\n",
              "    <tr style=\"text-align: right;\">\n",
              "      <th></th>\n",
              "      <th>Height</th>\n",
              "      <th>Width</th>\n",
              "    </tr>\n",
              "  </thead>\n",
              "  <tbody>\n",
              "    <tr>\n",
              "      <th>0</th>\n",
              "      <td>11.5200</td>\n",
              "      <td>4.0200</td>\n",
              "    </tr>\n",
              "    <tr>\n",
              "      <th>1</th>\n",
              "      <td>12.4800</td>\n",
              "      <td>4.3056</td>\n",
              "    </tr>\n",
              "    <tr>\n",
              "      <th>2</th>\n",
              "      <td>12.3778</td>\n",
              "      <td>4.6961</td>\n",
              "    </tr>\n",
              "    <tr>\n",
              "      <th>3</th>\n",
              "      <td>12.7300</td>\n",
              "      <td>4.4555</td>\n",
              "    </tr>\n",
              "    <tr>\n",
              "      <th>4</th>\n",
              "      <td>12.4440</td>\n",
              "      <td>5.1340</td>\n",
              "    </tr>\n",
              "  </tbody>\n",
              "</table>\n",
              "</div>"
            ],
            "text/plain": [
              "    Height   Width\n",
              "0  11.5200  4.0200\n",
              "1  12.4800  4.3056\n",
              "2  12.3778  4.6961\n",
              "3  12.7300  4.4555\n",
              "4  12.4440  5.1340"
            ]
          },
          "metadata": {
            "tags": []
          },
          "execution_count": 22
        }
      ]
    },
    {
      "cell_type": "code",
      "metadata": {
        "id": "k9OfjWBvE_cO",
        "colab_type": "code",
        "outputId": "d20c1895-d55f-4fc1-ded7-41f5661a40c9",
        "colab": {
          "base_uri": "https://localhost:8080/",
          "height": 202
        }
      },
      "source": [
        "#y = df3.iloc[:,[1]] # Select columns using column index\n",
        "y = df3[['Weight']]\n",
        "y.head(5)"
      ],
      "execution_count": 23,
      "outputs": [
        {
          "output_type": "execute_result",
          "data": {
            "text/html": [
              "<div>\n",
              "<style scoped>\n",
              "    .dataframe tbody tr th:only-of-type {\n",
              "        vertical-align: middle;\n",
              "    }\n",
              "\n",
              "    .dataframe tbody tr th {\n",
              "        vertical-align: top;\n",
              "    }\n",
              "\n",
              "    .dataframe thead th {\n",
              "        text-align: right;\n",
              "    }\n",
              "</style>\n",
              "<table border=\"1\" class=\"dataframe\">\n",
              "  <thead>\n",
              "    <tr style=\"text-align: right;\">\n",
              "      <th></th>\n",
              "      <th>Weight</th>\n",
              "    </tr>\n",
              "  </thead>\n",
              "  <tbody>\n",
              "    <tr>\n",
              "      <th>0</th>\n",
              "      <td>242.0</td>\n",
              "    </tr>\n",
              "    <tr>\n",
              "      <th>1</th>\n",
              "      <td>290.0</td>\n",
              "    </tr>\n",
              "    <tr>\n",
              "      <th>2</th>\n",
              "      <td>340.0</td>\n",
              "    </tr>\n",
              "    <tr>\n",
              "      <th>3</th>\n",
              "      <td>363.0</td>\n",
              "    </tr>\n",
              "    <tr>\n",
              "      <th>4</th>\n",
              "      <td>430.0</td>\n",
              "    </tr>\n",
              "  </tbody>\n",
              "</table>\n",
              "</div>"
            ],
            "text/plain": [
              "   Weight\n",
              "0   242.0\n",
              "1   290.0\n",
              "2   340.0\n",
              "3   363.0\n",
              "4   430.0"
            ]
          },
          "metadata": {
            "tags": []
          },
          "execution_count": 23
        }
      ]
    },
    {
      "cell_type": "markdown",
      "metadata": {
        "id": "cU7qVuYKFoDI",
        "colab_type": "text"
      },
      "source": [
        "## Create test and train dataset\n",
        "* We will split the dataset, so that we can use one set of data for training the model and one set of data for testing the model\n",
        "* We will keep 20% of data for testing and 80% of data for training the model"
      ]
    },
    {
      "cell_type": "code",
      "metadata": {
        "id": "Znw_CKM5FrVt",
        "colab_type": "code",
        "outputId": "ab56760c-dea3-4b8a-806a-5b1afe254c85",
        "colab": {
          "base_uri": "https://localhost:8080/",
          "height": 87
        }
      },
      "source": [
        "X_train,X_test, y_train, y_test = train_test_split(X, y, test_size =0.2) \n",
        "# Use paramter 'random_state=1' if you want keep results same everytime you execute above code\n",
        "print('X_train dimension= ', X_train.shape)\n",
        "print('X_test dimension= ', X_test.shape)\n",
        "print('y_train dimension= ', y_train.shape)\n",
        "print('y_train dimension= ', y_test.shape)"
      ],
      "execution_count": 24,
      "outputs": [
        {
          "output_type": "stream",
          "text": [
            "X_train dimension=  (124, 2)\n",
            "X_test dimension=  (31, 2)\n",
            "y_train dimension=  (124, 1)\n",
            "y_train dimension=  (31, 1)\n"
          ],
          "name": "stdout"
        }
      ]
    },
    {
      "cell_type": "markdown",
      "metadata": {
        "id": "mkKko7fMLR53",
        "colab_type": "text"
      },
      "source": [
        "## Ordinary Least Squares Algorithm\n",
        "\n",
        "* Lets the train the model using Ordinary Least Squares Algorithm\n",
        "* This is one of the most basic linear regression algorithm.\n",
        "* Mathematical formula used by ordinary least square algorithm is as below,\n",
        "\n",
        "   ![ordinary_least_squares_formlua.png](https://github.com/satishgunjal/images/blob/master/ordinary_least_squares_formlua_1.png?raw=true)\n",
        "* The objective of Ordinary Least Square Algorithm is to minimize the residual sum of squares. Here the term residual means 'deviation of predicted value(Xw) from actual value(y)'\n",
        "* Note that, problem with ordinary least square model is size of coefficients increase exponentially with increase in model complexity"
      ]
    },
    {
      "cell_type": "code",
      "metadata": {
        "id": "9hUaPA_yKL8B",
        "colab_type": "code",
        "outputId": "cceb2306-b047-435e-952d-28d31168425f",
        "colab": {
          "base_uri": "https://localhost:8080/",
          "height": 35
        }
      },
      "source": [
        "model = linear_model.LinearRegression()\n",
        "model.fit(X_train,y_train)"
      ],
      "execution_count": 25,
      "outputs": [
        {
          "output_type": "execute_result",
          "data": {
            "text/plain": [
              "LinearRegression(copy_X=True, fit_intercept=True, n_jobs=None, normalize=False)"
            ]
          },
          "metadata": {
            "tags": []
          },
          "execution_count": 25
        }
      ]
    },
    {
      "cell_type": "markdown",
      "metadata": {
        "id": "P5P3HfDDSKeu",
        "colab_type": "text"
      },
      "source": [
        "## Understanding Training Results\n",
        "* If training is successful then we get the result like above. Where all the default values used by LinearRgression() model are displayed. If required we can also pass these values in fit method. We are not going to change any of these values for now.\n",
        "* As per our hypothesis function, 'model' object contains the coef(slope of line) and intercept values"
      ]
    },
    {
      "cell_type": "code",
      "metadata": {
        "id": "r64wEOK6SveI",
        "colab_type": "code",
        "outputId": "d5f5737a-58e6-485f-87a0-ea6a9b0fc644",
        "colab": {
          "base_uri": "https://localhost:8080/",
          "height": 69
        }
      },
      "source": [
        "print('coef= ', model.coef_) # Since we have two features(Height and Width), there will be 2 coef\n",
        "print('intercept= ', model.intercept_)\n",
        "print('score= ', model.score(X_test,y_test))"
      ],
      "execution_count": 26,
      "outputs": [
        {
          "output_type": "stream",
          "text": [
            "coef=  [[ 10.14971941 152.31640013]]\n",
            "intercept=  [-376.40825622]\n",
            "score=  0.885540215536848\n"
          ],
          "name": "stdout"
        }
      ]
    },
    {
      "cell_type": "markdown",
      "metadata": {
        "id": "qI3szqlYUR3r",
        "colab_type": "text"
      },
      "source": [
        "## Predicting The Test Data\n",
        "* Check below table for weight from test data and predicted weight by our model\n",
        "* We will also plot the scatter plot of weight from test data vs predicted weight"
      ]
    },
    {
      "cell_type": "code",
      "metadata": {
        "id": "c6zqqGWrYz4X",
        "colab_type": "code",
        "outputId": "45c61435-b69d-40a4-9fd0-97eee8e9807b",
        "colab": {
          "base_uri": "https://localhost:8080/",
          "height": 147
        }
      },
      "source": [
        "predictedWeight = pd.DataFrame(model.predict(X_test), columns=['Predicted Weight']) # Create new dataframe of column'Predicted Weight'\n",
        "actualWeight = pd.DataFrame(y_test)\n",
        "actualWeight = actualWeight.reset_index(drop=True) # Drop the index so that we can concat it, to create new dataframe\n",
        "df_actual_vs_predicted = pd.concat([actualWeight,predictedWeight],axis =1)\n",
        "df_actual_vs_predicted.T"
      ],
      "execution_count": 30,
      "outputs": [
        {
          "output_type": "execute_result",
          "data": {
            "text/html": [
              "<div>\n",
              "<style scoped>\n",
              "    .dataframe tbody tr th:only-of-type {\n",
              "        vertical-align: middle;\n",
              "    }\n",
              "\n",
              "    .dataframe tbody tr th {\n",
              "        vertical-align: top;\n",
              "    }\n",
              "\n",
              "    .dataframe thead th {\n",
              "        text-align: right;\n",
              "    }\n",
              "</style>\n",
              "<table border=\"1\" class=\"dataframe\">\n",
              "  <thead>\n",
              "    <tr style=\"text-align: right;\">\n",
              "      <th></th>\n",
              "      <th>0</th>\n",
              "      <th>1</th>\n",
              "      <th>2</th>\n",
              "      <th>3</th>\n",
              "      <th>4</th>\n",
              "      <th>5</th>\n",
              "      <th>6</th>\n",
              "      <th>7</th>\n",
              "      <th>8</th>\n",
              "      <th>9</th>\n",
              "      <th>10</th>\n",
              "      <th>11</th>\n",
              "      <th>12</th>\n",
              "      <th>13</th>\n",
              "      <th>14</th>\n",
              "      <th>15</th>\n",
              "      <th>16</th>\n",
              "      <th>17</th>\n",
              "      <th>18</th>\n",
              "      <th>19</th>\n",
              "      <th>20</th>\n",
              "      <th>21</th>\n",
              "      <th>22</th>\n",
              "      <th>23</th>\n",
              "      <th>24</th>\n",
              "      <th>25</th>\n",
              "      <th>26</th>\n",
              "      <th>27</th>\n",
              "      <th>28</th>\n",
              "      <th>29</th>\n",
              "      <th>30</th>\n",
              "    </tr>\n",
              "  </thead>\n",
              "  <tbody>\n",
              "    <tr>\n",
              "      <th>Weight</th>\n",
              "      <td>150.000000</td>\n",
              "      <td>700.000000</td>\n",
              "      <td>950.000000</td>\n",
              "      <td>125.000000</td>\n",
              "      <td>273.000000</td>\n",
              "      <td>160.000000</td>\n",
              "      <td>690.000000</td>\n",
              "      <td>115.000000</td>\n",
              "      <td>925.000000</td>\n",
              "      <td>390.000000</td>\n",
              "      <td>840.000000</td>\n",
              "      <td>975.000000</td>\n",
              "      <td>345.000000</td>\n",
              "      <td>200.000000</td>\n",
              "      <td>300.000000</td>\n",
              "      <td>130.00000</td>\n",
              "      <td>78.000000</td>\n",
              "      <td>1000.000000</td>\n",
              "      <td>340.000000</td>\n",
              "      <td>51.500000</td>\n",
              "      <td>200.000000</td>\n",
              "      <td>450.000000</td>\n",
              "      <td>250.000000</td>\n",
              "      <td>320.000000</td>\n",
              "      <td>714.000000</td>\n",
              "      <td>197.000000</td>\n",
              "      <td>820.000000</td>\n",
              "      <td>7.500000</td>\n",
              "      <td>620.000000</td>\n",
              "      <td>120.000000</td>\n",
              "      <td>900.000000</td>\n",
              "    </tr>\n",
              "    <tr>\n",
              "      <th>Predicted Weight</th>\n",
              "      <td>215.398611</td>\n",
              "      <td>579.473735</td>\n",
              "      <td>772.796951</td>\n",
              "      <td>239.989419</td>\n",
              "      <td>367.330995</td>\n",
              "      <td>267.352268</td>\n",
              "      <td>700.629126</td>\n",
              "      <td>187.439202</td>\n",
              "      <td>842.031617</td>\n",
              "      <td>535.516155</td>\n",
              "      <td>927.608741</td>\n",
              "      <td>840.460271</td>\n",
              "      <td>294.271672</td>\n",
              "      <td>286.625074</td>\n",
              "      <td>383.881392</td>\n",
              "      <td>222.52184</td>\n",
              "      <td>152.107209</td>\n",
              "      <td>742.845888</td>\n",
              "      <td>464.515987</td>\n",
              "      <td>71.039154</td>\n",
              "      <td>327.307435</td>\n",
              "      <td>512.176117</td>\n",
              "      <td>343.335219</td>\n",
              "      <td>427.680882</td>\n",
              "      <td>682.514075</td>\n",
              "      <td>335.853273</td>\n",
              "      <td>869.504735</td>\n",
              "      <td>-179.705985</td>\n",
              "      <td>585.388618</td>\n",
              "      <td>187.429135</td>\n",
              "      <td>843.133943</td>\n",
              "    </tr>\n",
              "  </tbody>\n",
              "</table>\n",
              "</div>"
            ],
            "text/plain": [
              "                          0           1   ...          29          30\n",
              "Weight            150.000000  700.000000  ...  120.000000  900.000000\n",
              "Predicted Weight  215.398611  579.473735  ...  187.429135  843.133943\n",
              "\n",
              "[2 rows x 31 columns]"
            ]
          },
          "metadata": {
            "tags": []
          },
          "execution_count": 30
        }
      ]
    },
    {
      "cell_type": "markdown",
      "metadata": {
        "id": "cyvITzvggu41",
        "colab_type": "text"
      },
      "source": [
        "As you can see from above comparison, predicted weights are negative when actual weights are smaller than 20gm\n",
        "\n",
        "We can also visualize the above comparison using scatter plots"
      ]
    },
    {
      "cell_type": "code",
      "metadata": {
        "id": "pQIomK_-BynO",
        "colab_type": "code",
        "colab": {
          "base_uri": "https://localhost:8080/",
          "height": 421
        },
        "outputId": "202d167a-a9a9-4887-bafb-da7c6be2363d"
      },
      "source": [
        "plt.scatter(y_test, model.predict(X_test))\n",
        "plt.xlabel('Weight From Test Data')\n",
        "plt.ylabel('Weight Predicted By Model')\n",
        "plt.rcParams[\"figure.figsize\"] = (10,6) # Custom figure size in inches\n",
        "plt.title(\"Weight From test Data Vs Weight Predicted By Model\")"
      ],
      "execution_count": 31,
      "outputs": [
        {
          "output_type": "execute_result",
          "data": {
            "text/plain": [
              "Text(0.5, 1.0, 'Weight From test Data Vs Weight Predicted By Model')"
            ]
          },
          "metadata": {
            "tags": []
          },
          "execution_count": 31
        },
        {
          "output_type": "display_data",
          "data": {
            "image/png": "[encoded data removed]",
            "text/plain": [
              "<Figure size 720x432 with 1 Axes>"
            ]
          },
          "metadata": {
            "tags": [],
            "needs_background": "light"
          }
        }
      ]
    },
    {
      "cell_type": "code",
      "metadata": {
        "id": "zAFYsstNU0Qb",
        "colab_type": "code",
        "outputId": "2b6da543-63e6-4a5a-9b61-807a81cae94f",
        "colab": {
          "base_uri": "https://localhost:8080/",
          "height": 404
        }
      },
      "source": [
        "plt.scatter(X_test['Height'], y_test, color='red', label = 'Actual Weight')\n",
        "plt.scatter(X_test['Height'], model.predict(X_test), color='green', label = 'Prdicted Weight')\n",
        "plt.xlabel('Height')\n",
        "plt.ylabel('Weight')\n",
        "plt.rcParams[\"figure.figsize\"] = (10,6) # Custom figure size in inches\n",
        "plt.title('Actual Vs Predicted Weight for Test Data')\n",
        "plt.legend()\n",
        "plt.show()"
      ],
      "execution_count": 28,
      "outputs": [
        {
          "output_type": "display_data",
          "data": {
            "image/png": "[encoded data removed]",
            "text/plain": [
              "<Figure size 720x432 with 1 Axes>"
            ]
          },
          "metadata": {
            "tags": [],
            "needs_background": "light"
          }
        }
      ]
    },
    {
      "cell_type": "code",
      "metadata": {
        "id": "y-2DWYsihX-p",
        "colab_type": "code",
        "outputId": "0dd9fa43-1ba8-4ec2-821c-3d7d5f789368",
        "colab": {
          "base_uri": "https://localhost:8080/",
          "height": 404
        }
      },
      "source": [
        "plt.scatter(X_test['Width'], y_test, color='red', label = 'Actual Weight')\n",
        "plt.scatter(X_test['Width'], model.predict(X_test), color='green', label = 'Prdicted Weight')\n",
        "plt.xlabel('Width')\n",
        "plt.ylabel('Weight')\n",
        "plt.rcParams[\"figure.figsize\"] = (10,6) # Custom figure size in inches\n",
        "plt.title('Actual Vs Predicted Weight for Test Data')\n",
        "plt.legend()\n",
        "plt.show()"
      ],
      "execution_count": 29,
      "outputs": [
        {
          "output_type": "display_data",
          "data": {
            "image/png": "[encoded data removed]",
            "text/plain": [
              "<Figure size 720x432 with 1 Axes>"
            ]
          },
          "metadata": {
            "tags": [],
            "needs_background": "light"
          }
        }
      ]
    },
    {
      "cell_type": "markdown",
      "metadata": {
        "id": "aJkYDgMdB-bD",
        "colab_type": "text"
      },
      "source": [
        "# Step 6: Evaluating the Model\n",
        "\n",
        "Plot a histogram of the residuals."
      ]
    },
    {
      "cell_type": "code",
      "metadata": {
        "id": "TUFlMBenCAZ0",
        "colab_type": "code",
        "colab": {
          "base_uri": "https://localhost:8080/",
          "height": 407
        },
        "outputId": "a4596fd4-d1a6-4ddb-98b3-627867e8a6f7"
      },
      "source": [
        "sns.distplot((y_test-model.predict(X_test)))\n",
        "plt.rcParams[\"figure.figsize\"] = (10,6) # Custom figure size in inches\n",
        "plt.title(\"Histogram of Residuals\")"
      ],
      "execution_count": 32,
      "outputs": [
        {
          "output_type": "execute_result",
          "data": {
            "text/plain": [
              "Text(0.5, 1.0, 'Histogram of Residuals')"
            ]
          },
          "metadata": {
            "tags": []
          },
          "execution_count": 32
        },
        {
          "output_type": "display_data",
          "data": {
            "image/png": "[encoded data removed]",
            "text/plain": [
              "<Figure size 720x432 with 1 Axes>"
            ]
          },
          "metadata": {
            "tags": [],
            "needs_background": "light"
          }
        }
      ]
    },
    {
      "cell_type": "markdown",
      "metadata": {
        "id": "buHswy1VZq2l",
        "colab_type": "text"
      },
      "source": [
        "# Conclusion\n",
        "* As you can see from above results our model score is 88%, which is good enough to start with.\n",
        "* But one issue with prediction is negative weight values. This behavior is true for smaller(less than 20gm) weight values.\n",
        "* In machine learning there is no right or wrong way, every time we are solving a problem we make some choices which affect the results.\n",
        "* We have also made few choices like treating all species as one since we have small dataset.\n",
        "* I will try again with different approach to try an eliminate the negative weight values.\n",
        " \n",
        "\n"
      ]
    }
  ]
}
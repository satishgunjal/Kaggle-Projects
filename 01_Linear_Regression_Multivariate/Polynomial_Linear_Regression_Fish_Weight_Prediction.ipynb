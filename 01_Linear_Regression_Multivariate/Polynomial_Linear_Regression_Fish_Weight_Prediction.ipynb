{
  "nbformat": 4,
  "nbformat_minor": 0,
  "metadata": {
    "colab": {
      "name": "Polynomial_Linear_Regression_Fish_Weight_Prediction.ipynb",
      "provenance": [],
      "collapsed_sections": [],
      "toc_visible": true,
      "authorship_tag": "ABX9TyO8AOFnx2YUeH9cJrVeHLg3",
      "include_colab_link": true
    },
    "kernelspec": {
      "name": "python3",
      "display_name": "Python 3"
    }
  },
  "cells": [
    {
      "cell_type": "markdown",
      "metadata": {
        "id": "view-in-github",
        "colab_type": "text"
      },
      "source": [
        "<a href=\"https://colab.research.google.com/github/satishgunjal/Kaggle-Projects/blob/master/01_Linear_Regression_Multivariate/Polynomial_Linear_Regression_Fish_Weight_Prediction.ipynb\" target=\"_parent\"><img src=\"https://colab.research.google.com/assets/colab-badge.svg\" alt=\"Open In Colab\"/></a>"
      ]
    },
    {
      "cell_type": "markdown",
      "metadata": {
        "id": "OaKUllbSmgBB",
        "colab_type": "text"
      },
      "source": [
        "# Introduction\n",
        " \n",
        "![header.png](https://raw.githubusercontent.com/satishgunjal/images/master/fish.png)\n",
        " \n",
        "In this study I will create a machine learning model to predict the weight of the fish based on the body measurement data of seven types of fish species. You can download the dataset from Kaggle. [Fish market](https://www.kaggle.com/aungpyaeap/fish-market)\n",
        " \n",
        "I am going to use Polynomial feature with Linear model from sklearn library. Since there are multiple features its **Polynomial Multivariate Linear Regression** problem.\n",
        " \n",
        "I have documented the code and tried to explain every important concept or library I have using during this study. I hope it will be helpful.\n",
        " \n",
        "#kaggle #linearregression #polynomialregression #python\n",
        "\n"
      ]
    },
    {
      "cell_type": "markdown",
      "metadata": {
        "id": "Kz8N613XmmKY",
        "colab_type": "text"
      },
      "source": [
        "# Step 1: Import The Required Files\n",
        "* numpy : Numpy is the core library for scientific computing in Python. It is used for working with arrays and matrices.\n",
        "* pandas: Used for data manipulation and analysis\n",
        "* matplotlib : It’s plotting library, and we are going to use it for data visualization\n",
        "* seaborn : It is also data visualization library, based on matplotlib\n",
        "* linear_model: Sklearn linear regression model\n",
        "* train_test_split : helper function from Sklearn library for splitting the dataset\n",
        "* sklearn.metrics : Library encapsulate functions to measure the model performance\n",
        "* PolynomialFeatures : This used to generate polynomial features. In this study we are going to generate second degree features.\n",
        " \n",
        "\n"
      ]
    },
    {
      "cell_type": "code",
      "metadata": {
        "id": "_QSmbxuYPe6M",
        "colab_type": "code",
        "colab": {}
      },
      "source": [
        "import numpy as np\n",
        "import pandas as pd\n",
        "import matplotlib.pyplot as plt\n",
        "import seaborn as sns\n",
        "from sklearn import linear_model\n",
        "from sklearn.model_selection import train_test_split\n",
        "import sklearn.metrics as metrics\n",
        "from sklearn.preprocessing import PolynomialFeatures "
      ],
      "execution_count": 0,
      "outputs": []
    },
    {
      "cell_type": "markdown",
      "metadata": {
        "id": "J06rZFCjoEfT",
        "colab_type": "text"
      },
      "source": [
        "# Steps 2: Load The Data"
      ]
    },
    {
      "cell_type": "code",
      "metadata": {
        "id": "cc2P6WbjoGTY",
        "colab_type": "code",
        "outputId": "2e87753e-3337-4585-9744-501cf025653b",
        "colab": {
          "base_uri": "https://localhost:8080/",
          "height": 219
        }
      },
      "source": [
        "df = pd.read_csv('https://raw.githubusercontent.com/satishgunjal/datasets/master/Fish.csv')\n",
        "print('Dimension of dataset= ', df.shape)\n",
        "df.head(5) # head(n) returns first n records only. Can also use sample(n) for random n records."
      ],
      "execution_count": 0,
      "outputs": [
        {
          "output_type": "stream",
          "text": [
            "Dimension of dataset=  (159, 7)\n"
          ],
          "name": "stdout"
        },
        {
          "output_type": "execute_result",
          "data": {
            "text/html": [
              "<div>\n",
              "<style scoped>\n",
              "    .dataframe tbody tr th:only-of-type {\n",
              "        vertical-align: middle;\n",
              "    }\n",
              "\n",
              "    .dataframe tbody tr th {\n",
              "        vertical-align: top;\n",
              "    }\n",
              "\n",
              "    .dataframe thead th {\n",
              "        text-align: right;\n",
              "    }\n",
              "</style>\n",
              "<table border=\"1\" class=\"dataframe\">\n",
              "  <thead>\n",
              "    <tr style=\"text-align: right;\">\n",
              "      <th></th>\n",
              "      <th>Species</th>\n",
              "      <th>Weight</th>\n",
              "      <th>Length1</th>\n",
              "      <th>Length2</th>\n",
              "      <th>Length3</th>\n",
              "      <th>Height</th>\n",
              "      <th>Width</th>\n",
              "    </tr>\n",
              "  </thead>\n",
              "  <tbody>\n",
              "    <tr>\n",
              "      <th>0</th>\n",
              "      <td>Bream</td>\n",
              "      <td>242.0</td>\n",
              "      <td>23.2</td>\n",
              "      <td>25.4</td>\n",
              "      <td>30.0</td>\n",
              "      <td>11.5200</td>\n",
              "      <td>4.0200</td>\n",
              "    </tr>\n",
              "    <tr>\n",
              "      <th>1</th>\n",
              "      <td>Bream</td>\n",
              "      <td>290.0</td>\n",
              "      <td>24.0</td>\n",
              "      <td>26.3</td>\n",
              "      <td>31.2</td>\n",
              "      <td>12.4800</td>\n",
              "      <td>4.3056</td>\n",
              "    </tr>\n",
              "    <tr>\n",
              "      <th>2</th>\n",
              "      <td>Bream</td>\n",
              "      <td>340.0</td>\n",
              "      <td>23.9</td>\n",
              "      <td>26.5</td>\n",
              "      <td>31.1</td>\n",
              "      <td>12.3778</td>\n",
              "      <td>4.6961</td>\n",
              "    </tr>\n",
              "    <tr>\n",
              "      <th>3</th>\n",
              "      <td>Bream</td>\n",
              "      <td>363.0</td>\n",
              "      <td>26.3</td>\n",
              "      <td>29.0</td>\n",
              "      <td>33.5</td>\n",
              "      <td>12.7300</td>\n",
              "      <td>4.4555</td>\n",
              "    </tr>\n",
              "    <tr>\n",
              "      <th>4</th>\n",
              "      <td>Bream</td>\n",
              "      <td>430.0</td>\n",
              "      <td>26.5</td>\n",
              "      <td>29.0</td>\n",
              "      <td>34.0</td>\n",
              "      <td>12.4440</td>\n",
              "      <td>5.1340</td>\n",
              "    </tr>\n",
              "  </tbody>\n",
              "</table>\n",
              "</div>"
            ],
            "text/plain": [
              "  Species  Weight  Length1  Length2  Length3   Height   Width\n",
              "0   Bream   242.0     23.2     25.4     30.0  11.5200  4.0200\n",
              "1   Bream   290.0     24.0     26.3     31.2  12.4800  4.3056\n",
              "2   Bream   340.0     23.9     26.5     31.1  12.3778  4.6961\n",
              "3   Bream   363.0     26.3     29.0     33.5  12.7300  4.4555\n",
              "4   Bream   430.0     26.5     29.0     34.0  12.4440  5.1340"
            ]
          },
          "metadata": {
            "tags": []
          },
          "execution_count": 41
        }
      ]
    },
    {
      "cell_type": "markdown",
      "metadata": {
        "id": "CzNw9toWoiFl",
        "colab_type": "text"
      },
      "source": [
        " \n",
        "# Step 3: Understand The Data\n",
        "* There are total 159 rows(training samples) and 7 columns in dataset. \n",
        "* Each column details are as below \n",
        " \n",
        "| Column Name | Details\n",
        "| ------------|--------------\n",
        "| Species     | Species name of fish \n",
        "| Weight      | Weight of fish in gram     \n",
        "| Length1     | Vertical length in CM\n",
        "| Length2     | Diagonal length in CM\n",
        "| Length3     | Cross length in CM\n",
        "| Height      | Height in CM\n",
        "| Width       | Diagonal width in CM   \n",
        " \n",
        "* Features/input values/independent variables are 'Species', 'Length1','Length2', 'Length3', 'Height' and 'Width'\n",
        "* Target/output value/dependent variable is 'Weight'\n",
        "* So, we have to estimate the weight of the fish based on its measurement values.\n",
        " \n",
        "Let's change the name of columns lenght1,length2 and length3  as per the content of it."
      ]
    },
    {
      "cell_type": "code",
      "metadata": {
        "id": "M_dA7LCEor4J",
        "colab_type": "code",
        "outputId": "2f8c9d7c-2b6a-40ff-b0c0-523025fe0466",
        "colab": {
          "base_uri": "https://localhost:8080/",
          "height": 202
        }
      },
      "source": [
        "df1 = df.rename(columns={'Length1':'VerticalLen','Length2':'DiagonalLen','Length3':'CrossLen'})\n",
        "df1.sample(5) # Display random 5 records"
      ],
      "execution_count": 0,
      "outputs": [
        {
          "output_type": "execute_result",
          "data": {
            "text/html": [
              "<div>\n",
              "<style scoped>\n",
              "    .dataframe tbody tr th:only-of-type {\n",
              "        vertical-align: middle;\n",
              "    }\n",
              "\n",
              "    .dataframe tbody tr th {\n",
              "        vertical-align: top;\n",
              "    }\n",
              "\n",
              "    .dataframe thead th {\n",
              "        text-align: right;\n",
              "    }\n",
              "</style>\n",
              "<table border=\"1\" class=\"dataframe\">\n",
              "  <thead>\n",
              "    <tr style=\"text-align: right;\">\n",
              "      <th></th>\n",
              "      <th>Species</th>\n",
              "      <th>Weight</th>\n",
              "      <th>VerticalLen</th>\n",
              "      <th>DiagonalLen</th>\n",
              "      <th>CrossLen</th>\n",
              "      <th>Height</th>\n",
              "      <th>Width</th>\n",
              "    </tr>\n",
              "  </thead>\n",
              "  <tbody>\n",
              "    <tr>\n",
              "      <th>87</th>\n",
              "      <td>Perch</td>\n",
              "      <td>120.0</td>\n",
              "      <td>20.0</td>\n",
              "      <td>22.0</td>\n",
              "      <td>23.5</td>\n",
              "      <td>5.6400</td>\n",
              "      <td>3.5250</td>\n",
              "    </tr>\n",
              "    <tr>\n",
              "      <th>74</th>\n",
              "      <td>Perch</td>\n",
              "      <td>40.0</td>\n",
              "      <td>13.8</td>\n",
              "      <td>15.0</td>\n",
              "      <td>16.0</td>\n",
              "      <td>3.8240</td>\n",
              "      <td>2.4320</td>\n",
              "    </tr>\n",
              "    <tr>\n",
              "      <th>73</th>\n",
              "      <td>Perch</td>\n",
              "      <td>32.0</td>\n",
              "      <td>12.5</td>\n",
              "      <td>13.7</td>\n",
              "      <td>14.7</td>\n",
              "      <td>3.5280</td>\n",
              "      <td>1.9992</td>\n",
              "    </tr>\n",
              "    <tr>\n",
              "      <th>77</th>\n",
              "      <td>Perch</td>\n",
              "      <td>100.0</td>\n",
              "      <td>16.2</td>\n",
              "      <td>18.0</td>\n",
              "      <td>19.2</td>\n",
              "      <td>5.2224</td>\n",
              "      <td>3.3216</td>\n",
              "    </tr>\n",
              "    <tr>\n",
              "      <th>27</th>\n",
              "      <td>Bream</td>\n",
              "      <td>714.0</td>\n",
              "      <td>32.7</td>\n",
              "      <td>36.0</td>\n",
              "      <td>41.5</td>\n",
              "      <td>16.5170</td>\n",
              "      <td>5.8515</td>\n",
              "    </tr>\n",
              "  </tbody>\n",
              "</table>\n",
              "</div>"
            ],
            "text/plain": [
              "   Species  Weight  VerticalLen  DiagonalLen  CrossLen   Height   Width\n",
              "87   Perch   120.0         20.0         22.0      23.5   5.6400  3.5250\n",
              "74   Perch    40.0         13.8         15.0      16.0   3.8240  2.4320\n",
              "73   Perch    32.0         12.5         13.7      14.7   3.5280  1.9992\n",
              "77   Perch   100.0         16.2         18.0      19.2   5.2224  3.3216\n",
              "27   Bream   714.0         32.7         36.0      41.5  16.5170  5.8515"
            ]
          },
          "metadata": {
            "tags": []
          },
          "execution_count": 42
        }
      ]
    },
    {
      "cell_type": "markdown",
      "metadata": {
        "id": "RYOeazhScyl3",
        "colab_type": "text"
      },
      "source": [
        "Let's print the detailed information about our dataset"
      ]
    },
    {
      "cell_type": "code",
      "metadata": {
        "id": "n3ov9vi4czIN",
        "colab_type": "code",
        "outputId": "04adeb2c-16ef-44cf-84d5-c9ab200b5b42",
        "colab": {
          "base_uri": "https://localhost:8080/",
          "height": 260
        }
      },
      "source": [
        "df1.info()"
      ],
      "execution_count": 0,
      "outputs": [
        {
          "output_type": "stream",
          "text": [
            "<class 'pandas.core.frame.DataFrame'>\n",
            "RangeIndex: 159 entries, 0 to 158\n",
            "Data columns (total 7 columns):\n",
            " #   Column       Non-Null Count  Dtype  \n",
            "---  ------       --------------  -----  \n",
            " 0   Species      159 non-null    object \n",
            " 1   Weight       159 non-null    float64\n",
            " 2   VerticalLen  159 non-null    float64\n",
            " 3   DiagonalLen  159 non-null    float64\n",
            " 4   CrossLen     159 non-null    float64\n",
            " 5   Height       159 non-null    float64\n",
            " 6   Width        159 non-null    float64\n",
            "dtypes: float64(6), object(1)\n",
            "memory usage: 8.8+ KB\n"
          ],
          "name": "stdout"
        }
      ]
    },
    {
      "cell_type": "markdown",
      "metadata": {
        "id": "2NR7luiApLUJ",
        "colab_type": "text"
      },
      "source": [
        "# Step 4: Data Analysis Cleaning and Visualization"
      ]
    },
    {
      "cell_type": "markdown",
      "metadata": {
        "id": "o3o-6lqivuiS",
        "colab_type": "text"
      },
      "source": [
        "## Correlation Check\n",
        "* Correlation helps us investigate and establish relationships between variables\n",
        "* Note that high amount of correlation between independent variables suggest that linear regression estimation will be unreliable\n"
      ]
    },
    {
      "cell_type": "code",
      "metadata": {
        "id": "hERnG8_WwCau",
        "colab_type": "code",
        "outputId": "4425ead0-c272-4875-c3bb-1de11f17265a",
        "colab": {
          "base_uri": "https://localhost:8080/",
          "height": 233
        }
      },
      "source": [
        "df1.corr()"
      ],
      "execution_count": 0,
      "outputs": [
        {
          "output_type": "execute_result",
          "data": {
            "text/html": [
              "<div>\n",
              "<style scoped>\n",
              "    .dataframe tbody tr th:only-of-type {\n",
              "        vertical-align: middle;\n",
              "    }\n",
              "\n",
              "    .dataframe tbody tr th {\n",
              "        vertical-align: top;\n",
              "    }\n",
              "\n",
              "    .dataframe thead th {\n",
              "        text-align: right;\n",
              "    }\n",
              "</style>\n",
              "<table border=\"1\" class=\"dataframe\">\n",
              "  <thead>\n",
              "    <tr style=\"text-align: right;\">\n",
              "      <th></th>\n",
              "      <th>Weight</th>\n",
              "      <th>VerticalLen</th>\n",
              "      <th>DiagonalLen</th>\n",
              "      <th>CrossLen</th>\n",
              "      <th>Height</th>\n",
              "      <th>Width</th>\n",
              "    </tr>\n",
              "  </thead>\n",
              "  <tbody>\n",
              "    <tr>\n",
              "      <th>Weight</th>\n",
              "      <td>1.000000</td>\n",
              "      <td>0.915712</td>\n",
              "      <td>0.918618</td>\n",
              "      <td>0.923044</td>\n",
              "      <td>0.724345</td>\n",
              "      <td>0.886507</td>\n",
              "    </tr>\n",
              "    <tr>\n",
              "      <th>VerticalLen</th>\n",
              "      <td>0.915712</td>\n",
              "      <td>1.000000</td>\n",
              "      <td>0.999517</td>\n",
              "      <td>0.992031</td>\n",
              "      <td>0.625378</td>\n",
              "      <td>0.867050</td>\n",
              "    </tr>\n",
              "    <tr>\n",
              "      <th>DiagonalLen</th>\n",
              "      <td>0.918618</td>\n",
              "      <td>0.999517</td>\n",
              "      <td>1.000000</td>\n",
              "      <td>0.994103</td>\n",
              "      <td>0.640441</td>\n",
              "      <td>0.873547</td>\n",
              "    </tr>\n",
              "    <tr>\n",
              "      <th>CrossLen</th>\n",
              "      <td>0.923044</td>\n",
              "      <td>0.992031</td>\n",
              "      <td>0.994103</td>\n",
              "      <td>1.000000</td>\n",
              "      <td>0.703409</td>\n",
              "      <td>0.878520</td>\n",
              "    </tr>\n",
              "    <tr>\n",
              "      <th>Height</th>\n",
              "      <td>0.724345</td>\n",
              "      <td>0.625378</td>\n",
              "      <td>0.640441</td>\n",
              "      <td>0.703409</td>\n",
              "      <td>1.000000</td>\n",
              "      <td>0.792881</td>\n",
              "    </tr>\n",
              "    <tr>\n",
              "      <th>Width</th>\n",
              "      <td>0.886507</td>\n",
              "      <td>0.867050</td>\n",
              "      <td>0.873547</td>\n",
              "      <td>0.878520</td>\n",
              "      <td>0.792881</td>\n",
              "      <td>1.000000</td>\n",
              "    </tr>\n",
              "  </tbody>\n",
              "</table>\n",
              "</div>"
            ],
            "text/plain": [
              "               Weight  VerticalLen  DiagonalLen  CrossLen    Height     Width\n",
              "Weight       1.000000     0.915712     0.918618  0.923044  0.724345  0.886507\n",
              "VerticalLen  0.915712     1.000000     0.999517  0.992031  0.625378  0.867050\n",
              "DiagonalLen  0.918618     0.999517     1.000000  0.994103  0.640441  0.873547\n",
              "CrossLen     0.923044     0.992031     0.994103  1.000000  0.703409  0.878520\n",
              "Height       0.724345     0.625378     0.640441  0.703409  1.000000  0.792881\n",
              "Width        0.886507     0.867050     0.873547  0.878520  0.792881  1.000000"
            ]
          },
          "metadata": {
            "tags": []
          },
          "execution_count": 99
        }
      ]
    },
    {
      "cell_type": "code",
      "metadata": {
        "id": "aJQGrOu1wcH_",
        "colab_type": "code",
        "outputId": "d9217202-f9b7-4ccf-dc13-804c647f8271",
        "colab": {
          "base_uri": "https://localhost:8080/",
          "height": 407
        }
      },
      "source": [
        "plt.rcParams[\"figure.figsize\"] = (10,6) # Custom figure size in inches\n",
        "sns.heatmap(df1.corr(), annot =True)\n",
        "plt.title('Correlation Matrix')"
      ],
      "execution_count": 0,
      "outputs": [
        {
          "output_type": "execute_result",
          "data": {
            "text/plain": [
              "Text(0.5, 1.0, 'Correlation Matrix')"
            ]
          },
          "metadata": {
            "tags": []
          },
          "execution_count": 100
        },
        {
          "output_type": "display_data",
          "data": {
            "image/png": "[encoded data removed]",
            "text/plain": [
              "<Figure size 720x432 with 2 Axes>"
            ]
          },
          "metadata": {
            "tags": [],
            "needs_background": "light"
          }
        }
      ]
    },
    {
      "cell_type": "markdown",
      "metadata": {
        "id": "7j17OHurwhbJ",
        "colab_type": "text"
      },
      "source": [
        "## Reading Correlation Matrix \n",
        "* Correlation coefficient range from -1 to +1\n",
        "* Sign(+/-) indicate the direction and amount indicate the strength of correlation\n",
        "* +1.00 means perfect positive relationship\n",
        "* 0.00 means no relationship\n",
        "* -1.00 means perfect negative relationship\n",
        "* The correlation between 'VerticalLen', 'DiagonalLen' and 'Crosslen' is almost 1. This may cause 'Multicolinearity'. In another study where I tried to solve thos\n",
        " \n",
        "Let's drop the 'VerticalLen', 'DiagonalLen' and 'Crosslen' column.\n",
        " \n",
        "\n"
      ]
    },
    {
      "cell_type": "code",
      "metadata": {
        "id": "wqh4VSUlyeub",
        "colab_type": "code",
        "outputId": "31e46cac-b321-4ccf-b75e-042cf9fbfe24",
        "colab": {
          "base_uri": "https://localhost:8080/",
          "height": 158
        }
      },
      "source": [
        "df2 = df1.drop(['VerticalLen', 'DiagonalLen', 'CrossLen'], axis =1) # Can also use axis = 'columns'\n",
        "print('New dimension of dataset is= ', df2.shape)\n",
        "df2.head(3)"
      ],
      "execution_count": 0,
      "outputs": [
        {
          "output_type": "stream",
          "text": [
            "New dimension of dataset is=  (159, 4)\n"
          ],
          "name": "stdout"
        },
        {
          "output_type": "execute_result",
          "data": {
            "text/html": [
              "<div>\n",
              "<style scoped>\n",
              "    .dataframe tbody tr th:only-of-type {\n",
              "        vertical-align: middle;\n",
              "    }\n",
              "\n",
              "    .dataframe tbody tr th {\n",
              "        vertical-align: top;\n",
              "    }\n",
              "\n",
              "    .dataframe thead th {\n",
              "        text-align: right;\n",
              "    }\n",
              "</style>\n",
              "<table border=\"1\" class=\"dataframe\">\n",
              "  <thead>\n",
              "    <tr style=\"text-align: right;\">\n",
              "      <th></th>\n",
              "      <th>Species</th>\n",
              "      <th>Weight</th>\n",
              "      <th>Height</th>\n",
              "      <th>Width</th>\n",
              "    </tr>\n",
              "  </thead>\n",
              "  <tbody>\n",
              "    <tr>\n",
              "      <th>0</th>\n",
              "      <td>Bream</td>\n",
              "      <td>242.0</td>\n",
              "      <td>11.5200</td>\n",
              "      <td>4.0200</td>\n",
              "    </tr>\n",
              "    <tr>\n",
              "      <th>1</th>\n",
              "      <td>Bream</td>\n",
              "      <td>290.0</td>\n",
              "      <td>12.4800</td>\n",
              "      <td>4.3056</td>\n",
              "    </tr>\n",
              "    <tr>\n",
              "      <th>2</th>\n",
              "      <td>Bream</td>\n",
              "      <td>340.0</td>\n",
              "      <td>12.3778</td>\n",
              "      <td>4.6961</td>\n",
              "    </tr>\n",
              "  </tbody>\n",
              "</table>\n",
              "</div>"
            ],
            "text/plain": [
              "  Species  Weight   Height   Width\n",
              "0   Bream   242.0  11.5200  4.0200\n",
              "1   Bream   290.0  12.4800  4.3056\n",
              "2   Bream   340.0  12.3778  4.6961"
            ]
          },
          "metadata": {
            "tags": []
          },
          "execution_count": 101
        }
      ]
    },
    {
      "cell_type": "markdown",
      "metadata": {
        "id": "mNUHPPzW8hwi",
        "colab_type": "text"
      },
      "source": [
        "## Visulization Using Pairplot"
      ]
    },
    {
      "cell_type": "code",
      "metadata": {
        "id": "GtqFJShP8gm3",
        "colab_type": "code",
        "outputId": "95e20529-a6a1-4d51-bef2-07ecd097fd75",
        "colab": {
          "base_uri": "https://localhost:8080/",
          "height": 567
        }
      },
      "source": [
        "sns.pairplot(df2, kind = 'scatter', hue = 'Species')"
      ],
      "execution_count": 0,
      "outputs": [
        {
          "output_type": "display_data",
          "data": {
            "image/png": "[encoded data removed]",
            "text/plain": [
              "<Figure size 623.25x540 with 12 Axes>"
            ]
          },
          "metadata": {
            "tags": [],
            "needs_background": "light"
          }
        }
      ]
    },
    {
      "cell_type": "markdown",
      "metadata": {
        "id": "V63xY7rT8vfD",
        "colab_type": "text"
      },
      "source": [
        "From the above pair plot, we can see that there seems to be some correlations between  Height, Width and the Weight. Note that since we have multiple species the correlation between Height and Width of all species is not exactly linear with Weight.\n",
        " \n",
        "Now, since we have the final dataset ready lets analyze and remove the outliers if any\n"
      ]
    },
    {
      "cell_type": "markdown",
      "metadata": {
        "id": "2VJR-ydLt0o-",
        "colab_type": "text"
      },
      "source": [
        "## Outlier Detection and Removal\n",
        " \n",
        "* Outlier is an extremely high or extremely low value in our data\n",
        "* We use below formula to identify the outlier\n",
        "  ```\n",
        "    ( Greater than Q3 + 1.5 * IQR ) OR ( Lower than Q1 -1.5 * IQR )\n",
        " \n",
        "    where,\n",
        "    Q1  = First quartile\n",
        "    Q3  = Third quartile\n",
        "    IQR = Interquartile range (Q3 - Q1)\n",
        "  ```\n",
        " \n",
        "* We will use box plot for outlier visualization. \n",
        "* Vertical line on the left side of box plot represent the 'min' value of dataset and vertical line on right side of box plot represent the 'max' value of dataset. Any value which is outside this range is outlier and represented by '*'\n",
        " \n",
        "Lets write function for outlier detection"
      ]
    },
    {
      "cell_type": "code",
      "metadata": {
        "id": "aG_X501Nt4vC",
        "colab_type": "code",
        "colab": {}
      },
      "source": [
        "def outlier_detection(dataframe):\n",
        "  \"\"\"\n",
        "  Find the outlier in given dataset. To get the index fo the outlier data, please input single column dataframe\n",
        "\n",
        "  Input Parameters\n",
        "  ----------------\n",
        "  dataframe : single column dataframe\n",
        "  \n",
        "  Output Parameters\n",
        "  -----------------\n",
        "  outlier : Index of outlier training examples.\n",
        "  \"\"\"\n",
        "  Q1 = dataframe.quantile(0.25)\n",
        "  Q3 = dataframe.quantile(0.75)\n",
        "  IQR = Q3 - Q1\n",
        "  upper_end = Q3 + 1.5 * IQR\n",
        "  lower_end = Q1 - 1.5 * IQR \n",
        "  outlier = dataframe[(dataframe > upper_end) | (dataframe < lower_end)]\n",
        "  return outlier"
      ],
      "execution_count": 0,
      "outputs": []
    },
    {
      "cell_type": "markdown",
      "metadata": {
        "id": "7kfp5KBmeBxx",
        "colab_type": "text"
      },
      "source": [
        "Lets find the outliers for every feature column"
      ]
    },
    {
      "cell_type": "markdown",
      "metadata": {
        "id": "DW2npq85iTEQ",
        "colab_type": "text"
      },
      "source": [
        "### Outlier detection based on Weight"
      ]
    },
    {
      "cell_type": "code",
      "metadata": {
        "id": "VKoC40aKtUJj",
        "colab_type": "code",
        "outputId": "6a49832d-240a-44d1-e69d-72274174a9dc",
        "colab": {
          "base_uri": "https://localhost:8080/",
          "height": 407
        }
      },
      "source": [
        "sns.boxplot(data= df2['Weight'] )\n",
        "plt.title('Outlier Detection Based on Weight')"
      ],
      "execution_count": 0,
      "outputs": [
        {
          "output_type": "execute_result",
          "data": {
            "text/plain": [
              "Text(0.5, 1.0, 'Outlier Detection Based on Weight')"
            ]
          },
          "metadata": {
            "tags": []
          },
          "execution_count": 102
        },
        {
          "output_type": "display_data",
          "data": {
            "image/png": "[encoded data removed]",
            "text/plain": [
              "<Figure size 720x432 with 1 Axes>"
            ]
          },
          "metadata": {
            "tags": [],
            "needs_background": "light"
          }
        }
      ]
    },
    {
      "cell_type": "code",
      "metadata": {
        "id": "fIEN_uMAxxE6",
        "colab_type": "code",
        "outputId": "021f3a0b-e012-4493-9a81-6ef596aceef2",
        "colab": {
          "base_uri": "https://localhost:8080/",
          "height": 225
        }
      },
      "source": [
        "# 'Species' column contains categorical values, so using list slicing to iterate over all the columns except first one\n",
        "for column in df2.columns[1:]: \n",
        "    print('\\nOutliers in column \"%s\" ' % column)\n",
        "    outlier = outlier_detection(df2[column])\n",
        "    print(outlier)"
      ],
      "execution_count": 0,
      "outputs": [
        {
          "output_type": "stream",
          "text": [
            "\n",
            "Outliers in column \"Weight\" \n",
            "142    1600.0\n",
            "143    1550.0\n",
            "144    1650.0\n",
            "Name: Weight, dtype: float64\n",
            "\n",
            "Outliers in column \"Height\" \n",
            "Series([], Name: Height, dtype: float64)\n",
            "\n",
            "Outliers in column \"Width\" \n",
            "Series([], Name: Width, dtype: float64)\n"
          ],
          "name": "stdout"
        }
      ]
    },
    {
      "cell_type": "markdown",
      "metadata": {
        "id": "oqcEMLYI1fd-",
        "colab_type": "text"
      },
      "source": [
        "* For features Weight, VerticalLen and DiagonalLen index number 142, 143 and 144 are the outliers.\n",
        "* For feature CrossLen index 144 is outlier\n",
        "* For features Height and Width there are no outliers\n",
        "* Important thing to note is, we haven't consider the individual fish species count and physical properties while finding the outliers. For e.g. Pike are bigger and Smelt are smaller fish species. We have 56 training examples for 'Perch' and only 6 training examples for 'Whitefish' fish species.\n",
        "* Though we have small dataset, species wise outlier detection will help to make our model more accurate.\n",
        " \n",
        "So lets find the outlier for each species.\n",
        "\n"
      ]
    },
    {
      "cell_type": "code",
      "metadata": {
        "id": "sdvdYd0spEUo",
        "colab_type": "code",
        "colab": {}
      },
      "source": [
        "#Lets create temp dataframe without 'Weight' feature for plotting the boxplot\n",
        "df_temp = df2.drop(['Weight'], axis = 'columns')"
      ],
      "execution_count": 0,
      "outputs": []
    },
    {
      "cell_type": "markdown",
      "metadata": {
        "id": "CSoifZNa5Dgk",
        "colab_type": "text"
      },
      "source": [
        "### Outlier detection for Perch species"
      ]
    },
    {
      "cell_type": "code",
      "metadata": {
        "id": "kTLSZRfSin0j",
        "colab_type": "code",
        "outputId": "23910186-d287-4146-c2f3-9e8340bcc8cc",
        "colab": {
          "base_uri": "https://localhost:8080/",
          "height": 407
        }
      },
      "source": [
        "sns.boxplot(data= df_temp[df_temp.Species == 'Perch'] )\n",
        "plt.title('Outlier Detection For Pearch Species')"
      ],
      "execution_count": 0,
      "outputs": [
        {
          "output_type": "execute_result",
          "data": {
            "text/plain": [
              "Text(0.5, 1.0, 'Outlier Detection For Pearch Species')"
            ]
          },
          "metadata": {
            "tags": []
          },
          "execution_count": 105
        },
        {
          "output_type": "display_data",
          "data": {
            "image/png": "[encoded data removed]",
            "text/plain": [
              "<Figure size 720x432 with 1 Axes>"
            ]
          },
          "metadata": {
            "tags": [],
            "needs_background": "light"
          }
        }
      ]
    },
    {
      "cell_type": "code",
      "metadata": {
        "id": "HDXjA3YO4xFt",
        "colab_type": "code",
        "outputId": "6e314b82-6dbd-4516-ac4b-9fb1564296d7",
        "colab": {
          "base_uri": "https://localhost:8080/",
          "height": 173
        }
      },
      "source": [
        "df_Perch = df2[df2.Species == 'Perch']\n",
        "for column in df_Perch.columns[1:]: \n",
        "    print('\\nOutliers in column \"%s\" ' % column)\n",
        "    outlier = outlier_detection(df_Perch[column])\n",
        "    print(outlier)"
      ],
      "execution_count": 0,
      "outputs": [
        {
          "output_type": "stream",
          "text": [
            "\n",
            "Outliers in column \"Weight\" \n",
            "Series([], Name: Weight, dtype: float64)\n",
            "\n",
            "Outliers in column \"Height\" \n",
            "Series([], Name: Height, dtype: float64)\n",
            "\n",
            "Outliers in column \"Width\" \n",
            "Series([], Name: Width, dtype: float64)\n"
          ],
          "name": "stdout"
        }
      ]
    },
    {
      "cell_type": "markdown",
      "metadata": {
        "id": "QopImkvbAQGX",
        "colab_type": "text"
      },
      "source": [
        "There are no outliers for 'Perch' fish species"
      ]
    },
    {
      "cell_type": "markdown",
      "metadata": {
        "id": "GMcod4fhAVx_",
        "colab_type": "text"
      },
      "source": [
        "### Outlier detection for Bream species"
      ]
    },
    {
      "cell_type": "code",
      "metadata": {
        "id": "OWG685qild9W",
        "colab_type": "code",
        "outputId": "fea5be5a-500b-4a41-de78-afdd03c98c67",
        "colab": {
          "base_uri": "https://localhost:8080/",
          "height": 407
        }
      },
      "source": [
        "sns.boxplot(data= df_temp[df_temp.Species == 'Bream'] )\n",
        "plt.title('Outlier Detection For Bream Species')"
      ],
      "execution_count": 0,
      "outputs": [
        {
          "output_type": "execute_result",
          "data": {
            "text/plain": [
              "Text(0.5, 1.0, 'Outlier Detection For Bream Species')"
            ]
          },
          "metadata": {
            "tags": []
          },
          "execution_count": 108
        },
        {
          "output_type": "display_data",
          "data": {
            "image/png": "[encoded data removed]",
            "text/plain": [
              "<Figure size 720x432 with 1 Axes>"
            ]
          },
          "metadata": {
            "tags": [],
            "needs_background": "light"
          }
        }
      ]
    },
    {
      "cell_type": "code",
      "metadata": {
        "id": "8OK5hbdeAcjr",
        "colab_type": "code",
        "outputId": "cc272b9b-64d9-4c66-ee05-1325b2717bef",
        "colab": {
          "base_uri": "https://localhost:8080/",
          "height": 173
        }
      },
      "source": [
        "df_Bream = df2[df2.Species == 'Bream']\n",
        "for column in df_Bream.columns[1:]: \n",
        "    print('\\nOutliers in column \"%s\" ' % column)\n",
        "    outlier = outlier_detection(df_Bream[column])\n",
        "    print(outlier)"
      ],
      "execution_count": 0,
      "outputs": [
        {
          "output_type": "stream",
          "text": [
            "\n",
            "Outliers in column \"Weight\" \n",
            "Series([], Name: Weight, dtype: float64)\n",
            "\n",
            "Outliers in column \"Height\" \n",
            "Series([], Name: Height, dtype: float64)\n",
            "\n",
            "Outliers in column \"Width\" \n",
            "Series([], Name: Width, dtype: float64)\n"
          ],
          "name": "stdout"
        }
      ]
    },
    {
      "cell_type": "markdown",
      "metadata": {
        "id": "oM68wECeAx_c",
        "colab_type": "text"
      },
      "source": [
        "There are no outliers for 'Pearch' species"
      ]
    },
    {
      "cell_type": "markdown",
      "metadata": {
        "id": "fdC4f700BHeJ",
        "colab_type": "text"
      },
      "source": [
        "### Outlier detection for Roach species"
      ]
    },
    {
      "cell_type": "code",
      "metadata": {
        "id": "HV3nX0Rpn3NX",
        "colab_type": "code",
        "outputId": "c7c2c9e8-1d33-4099-f530-cd06b5138992",
        "colab": {
          "base_uri": "https://localhost:8080/",
          "height": 407
        }
      },
      "source": [
        "sns.boxplot(data= df_temp[df_temp.Species == 'Roach'] )\n",
        "plt.title('Outlier Detection For Roach Species')"
      ],
      "execution_count": 0,
      "outputs": [
        {
          "output_type": "execute_result",
          "data": {
            "text/plain": [
              "Text(0.5, 1.0, 'Outlier Detection For Roach Species')"
            ]
          },
          "metadata": {
            "tags": []
          },
          "execution_count": 112
        },
        {
          "output_type": "display_data",
          "data": {
            "image/png": "[encoded data removed]",
            "text/plain": [
              "<Figure size 720x432 with 1 Axes>"
            ]
          },
          "metadata": {
            "tags": [],
            "needs_background": "light"
          }
        }
      ]
    },
    {
      "cell_type": "code",
      "metadata": {
        "id": "DoxekQe_BKCp",
        "colab_type": "code",
        "outputId": "7ef1ee82-8ac0-4880-ece5-68f6d46c96e3",
        "colab": {
          "base_uri": "https://localhost:8080/",
          "height": 329
        }
      },
      "source": [
        "df_Roach = df2[df2.Species == 'Roach']\n",
        "for column in df_Roach.columns[1:]: \n",
        "    print('\\nOutliers in column \"%s\" ' % column)\n",
        "    outlier = outlier_detection(df_Roach[column])\n",
        "    print(outlier)"
      ],
      "execution_count": 0,
      "outputs": [
        {
          "output_type": "stream",
          "text": [
            "\n",
            "Outliers in column \"Weight\" \n",
            "40      0.0\n",
            "52    290.0\n",
            "54    390.0\n",
            "Name: Weight, dtype: float64\n",
            "\n",
            "Outliers in column \"Height\" \n",
            "35    4.1472\n",
            "52    8.8768\n",
            "54    9.4850\n",
            "Name: Height, dtype: float64\n",
            "\n",
            "Outliers in column \"Width\" \n",
            "35    2.2680\n",
            "53    4.7736\n",
            "54    5.3550\n",
            "Name: Width, dtype: float64\n"
          ],
          "name": "stdout"
        }
      ]
    },
    {
      "cell_type": "markdown",
      "metadata": {
        "id": "nTaqcPC2BWWS",
        "colab_type": "text"
      },
      "source": [
        "As you can see only row 54 and 35 are common across majority features, so we can safily remove them"
      ]
    },
    {
      "cell_type": "markdown",
      "metadata": {
        "id": "vNRgODxwBjVI",
        "colab_type": "text"
      },
      "source": [
        "### Outlier detection for Pike species"
      ]
    },
    {
      "cell_type": "code",
      "metadata": {
        "id": "rWACOn5Ysz0E",
        "colab_type": "code",
        "outputId": "4bf4f99e-5993-48a8-9fe7-89ce2d041702",
        "colab": {
          "base_uri": "https://localhost:8080/",
          "height": 407
        }
      },
      "source": [
        "sns.boxplot(data= df_temp[df_temp.Species == 'Pike'] )\n",
        "plt.title('Outlier Detection For Pike Species')"
      ],
      "execution_count": 0,
      "outputs": [
        {
          "output_type": "execute_result",
          "data": {
            "text/plain": [
              "Text(0.5, 1.0, 'Outlier Detection For Pike Species')"
            ]
          },
          "metadata": {
            "tags": []
          },
          "execution_count": 114
        },
        {
          "output_type": "display_data",
          "data": {
            "image/png": "[encoded data removed]",
            "text/plain": [
              "<Figure size 720x432 with 1 Axes>"
            ]
          },
          "metadata": {
            "tags": [],
            "needs_background": "light"
          }
        }
      ]
    },
    {
      "cell_type": "code",
      "metadata": {
        "id": "g2VA_PKuBlSY",
        "colab_type": "code",
        "outputId": "a4b0908b-6be0-48ab-d794-df21b1c58c9e",
        "colab": {
          "base_uri": "https://localhost:8080/",
          "height": 173
        }
      },
      "source": [
        "df_Pike = df2[df2.Species == 'Pike']\n",
        "for column in df_Pike.columns[1:]: \n",
        "    print('\\nOutliers in column \"%s\" ' % column)\n",
        "    outlier = outlier_detection(df_Pike[column])\n",
        "    print(outlier)"
      ],
      "execution_count": 0,
      "outputs": [
        {
          "output_type": "stream",
          "text": [
            "\n",
            "Outliers in column \"Weight\" \n",
            "Series([], Name: Weight, dtype: float64)\n",
            "\n",
            "Outliers in column \"Height\" \n",
            "Series([], Name: Height, dtype: float64)\n",
            "\n",
            "Outliers in column \"Width\" \n",
            "Series([], Name: Width, dtype: float64)\n"
          ],
          "name": "stdout"
        }
      ]
    },
    {
      "cell_type": "markdown",
      "metadata": {
        "id": "gsH-qcuEB2vp",
        "colab_type": "text"
      },
      "source": [
        "No outlier for Pike species"
      ]
    },
    {
      "cell_type": "markdown",
      "metadata": {
        "id": "YT7cUr6bB6yb",
        "colab_type": "text"
      },
      "source": [
        "### Outlier detection for Smelt species"
      ]
    },
    {
      "cell_type": "code",
      "metadata": {
        "id": "QfAYjifxuhYx",
        "colab_type": "code",
        "outputId": "8d7efd65-e854-4b42-f0ad-9478adc6bf0e",
        "colab": {
          "base_uri": "https://localhost:8080/",
          "height": 407
        }
      },
      "source": [
        "sns.boxplot(data= df_temp[df_temp.Species == 'Smelt'] )\n",
        "plt.title('Outlier Detection For Smelt Species')"
      ],
      "execution_count": 0,
      "outputs": [
        {
          "output_type": "execute_result",
          "data": {
            "text/plain": [
              "Text(0.5, 1.0, 'Outlier Detection For Smelt Species')"
            ]
          },
          "metadata": {
            "tags": []
          },
          "execution_count": 116
        },
        {
          "output_type": "display_data",
          "data": {
            "image/png": "[encoded data removed]",
            "text/plain": [
              "<Figure size 720x432 with 1 Axes>"
            ]
          },
          "metadata": {
            "tags": [],
            "needs_background": "light"
          }
        }
      ]
    },
    {
      "cell_type": "code",
      "metadata": {
        "id": "Or0l9GU2B59Y",
        "colab_type": "code",
        "outputId": "6bef1f7a-d25c-493d-c853-dea6e6bfbb0f",
        "colab": {
          "base_uri": "https://localhost:8080/",
          "height": 277
        }
      },
      "source": [
        "df_Smelt = df2[df2.Species == 'Smelt']\n",
        "for column in df_Smelt.columns[1:]: \n",
        "    print('\\nOutliers in column \"%s\" ' % column)\n",
        "    outlier = outlier_detection(df_Smelt[column])\n",
        "    print(outlier)"
      ],
      "execution_count": 0,
      "outputs": [
        {
          "output_type": "stream",
          "text": [
            "\n",
            "Outliers in column \"Weight\" \n",
            "157    19.7\n",
            "158    19.9\n",
            "Name: Weight, dtype: float64\n",
            "\n",
            "Outliers in column \"Height\" \n",
            "157    2.8728\n",
            "158    2.9322\n",
            "Name: Height, dtype: float64\n",
            "\n",
            "Outliers in column \"Width\" \n",
            "157    2.0672\n",
            "158    1.8792\n",
            "Name: Width, dtype: float64\n"
          ],
          "name": "stdout"
        }
      ]
    },
    {
      "cell_type": "markdown",
      "metadata": {
        "id": "bOJc4Y5nCNg9",
        "colab_type": "text"
      },
      "source": [
        "As you can see only rows 157 and 158 are common across multiple features, so we can safily remove them"
      ]
    },
    {
      "cell_type": "markdown",
      "metadata": {
        "id": "eUXnmr8iCYFL",
        "colab_type": "text"
      },
      "source": [
        "### Outlier detection for Parkki species"
      ]
    },
    {
      "cell_type": "code",
      "metadata": {
        "id": "7q02yDNKuvYw",
        "colab_type": "code",
        "outputId": "b88381e1-f3ff-401c-a7e8-3203651fdfac",
        "colab": {
          "base_uri": "https://localhost:8080/",
          "height": 407
        }
      },
      "source": [
        "sns.boxplot(data= df_temp[df_temp.Species == 'Parkki'] )\n",
        "plt.title('Outlier Detection For Parkki Species')"
      ],
      "execution_count": 0,
      "outputs": [
        {
          "output_type": "execute_result",
          "data": {
            "text/plain": [
              "Text(0.5, 1.0, 'Outlier Detection For Parkki Species')"
            ]
          },
          "metadata": {
            "tags": []
          },
          "execution_count": 118
        },
        {
          "output_type": "display_data",
          "data": {
            "image/png": "[encoded data removed]",
            "text/plain": [
              "<Figure size 720x432 with 1 Axes>"
            ]
          },
          "metadata": {
            "tags": [],
            "needs_background": "light"
          }
        }
      ]
    },
    {
      "cell_type": "code",
      "metadata": {
        "id": "mr1TTXOkCae2",
        "colab_type": "code",
        "outputId": "cec72759-8732-46bf-c81f-f238f840d524",
        "colab": {
          "base_uri": "https://localhost:8080/",
          "height": 173
        }
      },
      "source": [
        "df_Parkki = df2[df2.Species == 'Parkki']\n",
        "for column in df_Parkki.columns[1:]: \n",
        "    print('\\nOutliers in column \"%s\" ' % column)\n",
        "    outlier = outlier_detection(df_Parkki[column])\n",
        "    print(outlier)"
      ],
      "execution_count": 0,
      "outputs": [
        {
          "output_type": "stream",
          "text": [
            "\n",
            "Outliers in column \"Weight\" \n",
            "Series([], Name: Weight, dtype: float64)\n",
            "\n",
            "Outliers in column \"Height\" \n",
            "Series([], Name: Height, dtype: float64)\n",
            "\n",
            "Outliers in column \"Width\" \n",
            "Series([], Name: Width, dtype: float64)\n"
          ],
          "name": "stdout"
        }
      ]
    },
    {
      "cell_type": "markdown",
      "metadata": {
        "id": "y8Ee8jFxChIf",
        "colab_type": "text"
      },
      "source": [
        "No outliers for Parkki species"
      ]
    },
    {
      "cell_type": "markdown",
      "metadata": {
        "id": "rPE2tvcXClY0",
        "colab_type": "text"
      },
      "source": [
        "### Outlier detection for Whitefish species"
      ]
    },
    {
      "cell_type": "code",
      "metadata": {
        "id": "X-Yopprku0lX",
        "colab_type": "code",
        "outputId": "f4a44120-2eea-4d3a-b90a-8c02b7e0ac80",
        "colab": {
          "base_uri": "https://localhost:8080/",
          "height": 407
        }
      },
      "source": [
        "sns.boxplot(data= df_temp[df_temp.Species == 'Whitefish'] )\n",
        "plt.title('Outlier Detection For Whitefish Species')"
      ],
      "execution_count": 0,
      "outputs": [
        {
          "output_type": "execute_result",
          "data": {
            "text/plain": [
              "Text(0.5, 1.0, 'Outlier Detection For Whitefish Species')"
            ]
          },
          "metadata": {
            "tags": []
          },
          "execution_count": 120
        },
        {
          "output_type": "display_data",
          "data": {
            "image/png": "[encoded data removed]",
            "text/plain": [
              "<Figure size 720x432 with 1 Axes>"
            ]
          },
          "metadata": {
            "tags": [],
            "needs_background": "light"
          }
        }
      ]
    },
    {
      "cell_type": "code",
      "metadata": {
        "id": "7WgXspKoCpIL",
        "colab_type": "code",
        "outputId": "9d6461e1-e37b-49ae-db45-bbe968be6211",
        "colab": {
          "base_uri": "https://localhost:8080/",
          "height": 173
        }
      },
      "source": [
        "df_Whitefish = df2[df2.Species == 'Whitefish']\n",
        "for column in df_Whitefish.columns[1:]: \n",
        "    print('\\nOutliers in column \"%s\" ' % column)\n",
        "    outlier = outlier_detection(df_Whitefish[column])\n",
        "    print(outlier)"
      ],
      "execution_count": 0,
      "outputs": [
        {
          "output_type": "stream",
          "text": [
            "\n",
            "Outliers in column \"Weight\" \n",
            "Series([], Name: Weight, dtype: float64)\n",
            "\n",
            "Outliers in column \"Height\" \n",
            "Series([], Name: Height, dtype: float64)\n",
            "\n",
            "Outliers in column \"Width\" \n",
            "Series([], Name: Width, dtype: float64)\n"
          ],
          "name": "stdout"
        }
      ]
    },
    {
      "cell_type": "markdown",
      "metadata": {
        "id": "IyODfolkC2ZX",
        "colab_type": "text"
      },
      "source": [
        "No outlier for Whitefish species"
      ]
    },
    {
      "cell_type": "markdown",
      "metadata": {
        "id": "4B708s1iEJjC",
        "colab_type": "text"
      },
      "source": [
        "### Dropping the outlier rows\n",
        "* If we dont consider species specific measurement then outlier are 142, 143 and 144\n",
        "* And as per species specific measurement outliers are 35, 54, 157 and 158\n",
        "* Lets drop the species specific outliers only"
      ]
    },
    {
      "cell_type": "code",
      "metadata": {
        "id": "1w0FctXVFSDW",
        "colab_type": "code",
        "outputId": "97f79597-1b89-41a2-b6cf-a6caa1efa706",
        "colab": {
          "base_uri": "https://localhost:8080/",
          "height": 35
        }
      },
      "source": [
        "df3 = df2.drop([35,54,157,158])\n",
        "df3.shape"
      ],
      "execution_count": 0,
      "outputs": [
        {
          "output_type": "execute_result",
          "data": {
            "text/plain": [
              "(155, 4)"
            ]
          },
          "metadata": {
            "tags": []
          },
          "execution_count": 122
        }
      ]
    },
    {
      "cell_type": "markdown",
      "metadata": {
        "id": "7-DGYYH3Frzp",
        "colab_type": "text"
      },
      "source": [
        "## Check for null values"
      ]
    },
    {
      "cell_type": "code",
      "metadata": {
        "id": "EE7l6lujFt6a",
        "colab_type": "code",
        "outputId": "ef6f12f0-edbe-4ce1-828c-644ae5de25ed",
        "colab": {
          "base_uri": "https://localhost:8080/",
          "height": 104
        }
      },
      "source": [
        "df3.isna().sum()"
      ],
      "execution_count": 0,
      "outputs": [
        {
          "output_type": "execute_result",
          "data": {
            "text/plain": [
              "Species    0\n",
              "Weight     0\n",
              "Height     0\n",
              "Width      0\n",
              "dtype: int64"
            ]
          },
          "metadata": {
            "tags": []
          },
          "execution_count": 123
        }
      ]
    },
    {
      "cell_type": "markdown",
      "metadata": {
        "id": "9vV-TwloF6hh",
        "colab_type": "text"
      },
      "source": [
        "## Using Domain Knowledge For Data Cleaning\n",
        "* Now lets use some common sense and find and remove the training data where weight of fish is 0 or negative"
      ]
    },
    {
      "cell_type": "code",
      "metadata": {
        "id": "a8j2UfTpGAhD",
        "colab_type": "code",
        "outputId": "905f2220-3077-4a33-a9de-2298e3cd575f",
        "colab": {
          "base_uri": "https://localhost:8080/",
          "height": 79
        }
      },
      "source": [
        "df3[df3.Weight <= 0]"
      ],
      "execution_count": 0,
      "outputs": [
        {
          "output_type": "execute_result",
          "data": {
            "text/html": [
              "<div>\n",
              "<style scoped>\n",
              "    .dataframe tbody tr th:only-of-type {\n",
              "        vertical-align: middle;\n",
              "    }\n",
              "\n",
              "    .dataframe tbody tr th {\n",
              "        vertical-align: top;\n",
              "    }\n",
              "\n",
              "    .dataframe thead th {\n",
              "        text-align: right;\n",
              "    }\n",
              "</style>\n",
              "<table border=\"1\" class=\"dataframe\">\n",
              "  <thead>\n",
              "    <tr style=\"text-align: right;\">\n",
              "      <th></th>\n",
              "      <th>Species</th>\n",
              "      <th>Weight</th>\n",
              "      <th>Height</th>\n",
              "      <th>Width</th>\n",
              "    </tr>\n",
              "  </thead>\n",
              "  <tbody>\n",
              "    <tr>\n",
              "      <th>40</th>\n",
              "      <td>Roach</td>\n",
              "      <td>0.0</td>\n",
              "      <td>6.4752</td>\n",
              "      <td>3.3516</td>\n",
              "    </tr>\n",
              "  </tbody>\n",
              "</table>\n",
              "</div>"
            ],
            "text/plain": [
              "   Species  Weight  Height   Width\n",
              "40   Roach     0.0  6.4752  3.3516"
            ]
          },
          "metadata": {
            "tags": []
          },
          "execution_count": 124
        }
      ]
    },
    {
      "cell_type": "code",
      "metadata": {
        "id": "X_a6o3bQGOMa",
        "colab_type": "code",
        "outputId": "9e6f3cb8-5215-4a6b-d125-aed84364e45f",
        "colab": {
          "base_uri": "https://localhost:8080/",
          "height": 35
        }
      },
      "source": [
        "df4 = df3.drop([40])\n",
        "df4.shape"
      ],
      "execution_count": 0,
      "outputs": [
        {
          "output_type": "execute_result",
          "data": {
            "text/plain": [
              "(154, 4)"
            ]
          },
          "metadata": {
            "tags": []
          },
          "execution_count": 125
        }
      ]
    },
    {
      "cell_type": "code",
      "metadata": {
        "id": "GPabbU7gevbK",
        "colab_type": "code",
        "outputId": "70cc94c1-aace-47c3-9044-a0901fd8c752",
        "colab": {
          "base_uri": "https://localhost:8080/",
          "height": 141
        }
      },
      "source": [
        "dummies_species = pd.get_dummies(df4.Species) # store the dummy variables in 'dummies_species' dataframe\n",
        "dummies_species.head(3) # To do get individual dummy value"
      ],
      "execution_count": 0,
      "outputs": [
        {
          "output_type": "execute_result",
          "data": {
            "text/html": [
              "<div>\n",
              "<style scoped>\n",
              "    .dataframe tbody tr th:only-of-type {\n",
              "        vertical-align: middle;\n",
              "    }\n",
              "\n",
              "    .dataframe tbody tr th {\n",
              "        vertical-align: top;\n",
              "    }\n",
              "\n",
              "    .dataframe thead th {\n",
              "        text-align: right;\n",
              "    }\n",
              "</style>\n",
              "<table border=\"1\" class=\"dataframe\">\n",
              "  <thead>\n",
              "    <tr style=\"text-align: right;\">\n",
              "      <th></th>\n",
              "      <th>Bream</th>\n",
              "      <th>Parkki</th>\n",
              "      <th>Perch</th>\n",
              "      <th>Pike</th>\n",
              "      <th>Roach</th>\n",
              "      <th>Smelt</th>\n",
              "      <th>Whitefish</th>\n",
              "    </tr>\n",
              "  </thead>\n",
              "  <tbody>\n",
              "    <tr>\n",
              "      <th>0</th>\n",
              "      <td>1</td>\n",
              "      <td>0</td>\n",
              "      <td>0</td>\n",
              "      <td>0</td>\n",
              "      <td>0</td>\n",
              "      <td>0</td>\n",
              "      <td>0</td>\n",
              "    </tr>\n",
              "    <tr>\n",
              "      <th>1</th>\n",
              "      <td>1</td>\n",
              "      <td>0</td>\n",
              "      <td>0</td>\n",
              "      <td>0</td>\n",
              "      <td>0</td>\n",
              "      <td>0</td>\n",
              "      <td>0</td>\n",
              "    </tr>\n",
              "    <tr>\n",
              "      <th>2</th>\n",
              "      <td>1</td>\n",
              "      <td>0</td>\n",
              "      <td>0</td>\n",
              "      <td>0</td>\n",
              "      <td>0</td>\n",
              "      <td>0</td>\n",
              "      <td>0</td>\n",
              "    </tr>\n",
              "  </tbody>\n",
              "</table>\n",
              "</div>"
            ],
            "text/plain": [
              "   Bream  Parkki  Perch  Pike  Roach  Smelt  Whitefish\n",
              "0      1       0      0     0      0      0          0\n",
              "1      1       0      0     0      0      0          0\n",
              "2      1       0      0     0      0      0          0"
            ]
          },
          "metadata": {
            "tags": []
          },
          "execution_count": 126
        }
      ]
    },
    {
      "cell_type": "markdown",
      "metadata": {
        "id": "ya8IO0VRfLj2",
        "colab_type": "text"
      },
      "source": [
        "Now lets create new dataframe using dummies_species dataframe"
      ]
    },
    {
      "cell_type": "code",
      "metadata": {
        "id": "pn_z5g-vfU_M",
        "colab_type": "code",
        "outputId": "25c0254c-8d0b-4d07-eb5a-0946a719d104",
        "colab": {
          "base_uri": "https://localhost:8080/",
          "height": 141
        }
      },
      "source": [
        "df5 = pd.concat([df4, dummies_species],axis = 'columns')\n",
        "df5.head(3)"
      ],
      "execution_count": 0,
      "outputs": [
        {
          "output_type": "execute_result",
          "data": {
            "text/html": [
              "<div>\n",
              "<style scoped>\n",
              "    .dataframe tbody tr th:only-of-type {\n",
              "        vertical-align: middle;\n",
              "    }\n",
              "\n",
              "    .dataframe tbody tr th {\n",
              "        vertical-align: top;\n",
              "    }\n",
              "\n",
              "    .dataframe thead th {\n",
              "        text-align: right;\n",
              "    }\n",
              "</style>\n",
              "<table border=\"1\" class=\"dataframe\">\n",
              "  <thead>\n",
              "    <tr style=\"text-align: right;\">\n",
              "      <th></th>\n",
              "      <th>Species</th>\n",
              "      <th>Weight</th>\n",
              "      <th>Height</th>\n",
              "      <th>Width</th>\n",
              "      <th>Bream</th>\n",
              "      <th>Parkki</th>\n",
              "      <th>Perch</th>\n",
              "      <th>Pike</th>\n",
              "      <th>Roach</th>\n",
              "      <th>Smelt</th>\n",
              "      <th>Whitefish</th>\n",
              "    </tr>\n",
              "  </thead>\n",
              "  <tbody>\n",
              "    <tr>\n",
              "      <th>0</th>\n",
              "      <td>Bream</td>\n",
              "      <td>242.0</td>\n",
              "      <td>11.5200</td>\n",
              "      <td>4.0200</td>\n",
              "      <td>1</td>\n",
              "      <td>0</td>\n",
              "      <td>0</td>\n",
              "      <td>0</td>\n",
              "      <td>0</td>\n",
              "      <td>0</td>\n",
              "      <td>0</td>\n",
              "    </tr>\n",
              "    <tr>\n",
              "      <th>1</th>\n",
              "      <td>Bream</td>\n",
              "      <td>290.0</td>\n",
              "      <td>12.4800</td>\n",
              "      <td>4.3056</td>\n",
              "      <td>1</td>\n",
              "      <td>0</td>\n",
              "      <td>0</td>\n",
              "      <td>0</td>\n",
              "      <td>0</td>\n",
              "      <td>0</td>\n",
              "      <td>0</td>\n",
              "    </tr>\n",
              "    <tr>\n",
              "      <th>2</th>\n",
              "      <td>Bream</td>\n",
              "      <td>340.0</td>\n",
              "      <td>12.3778</td>\n",
              "      <td>4.6961</td>\n",
              "      <td>1</td>\n",
              "      <td>0</td>\n",
              "      <td>0</td>\n",
              "      <td>0</td>\n",
              "      <td>0</td>\n",
              "      <td>0</td>\n",
              "      <td>0</td>\n",
              "    </tr>\n",
              "  </tbody>\n",
              "</table>\n",
              "</div>"
            ],
            "text/plain": [
              "  Species  Weight   Height   Width  Bream  ...  Perch  Pike  Roach  Smelt  Whitefish\n",
              "0   Bream   242.0  11.5200  4.0200      1  ...      0     0      0      0          0\n",
              "1   Bream   290.0  12.4800  4.3056      1  ...      0     0      0      0          0\n",
              "2   Bream   340.0  12.3778  4.6961      1  ...      0     0      0      0          0\n",
              "\n",
              "[3 rows x 11 columns]"
            ]
          },
          "metadata": {
            "tags": []
          },
          "execution_count": 127
        }
      ]
    },
    {
      "cell_type": "markdown",
      "metadata": {
        "id": "PtqeiO8bfuLC",
        "colab_type": "text"
      },
      "source": [
        "Since we have dummy variables we can drop the 'Species' column and to avoide the 'Dummy Variable Trap' problem we will also drop 'Whitefish' column"
      ]
    },
    {
      "cell_type": "code",
      "metadata": {
        "id": "Dja4y74nf1f5",
        "colab_type": "code",
        "outputId": "d575a6e2-e894-4cc9-98ac-f2795aee3d25",
        "colab": {
          "base_uri": "https://localhost:8080/",
          "height": 141
        }
      },
      "source": [
        "df6 = df5.drop(['Species','Whitefish'], axis = 'columns')\n",
        "df6.head(3)"
      ],
      "execution_count": 0,
      "outputs": [
        {
          "output_type": "execute_result",
          "data": {
            "text/html": [
              "<div>\n",
              "<style scoped>\n",
              "    .dataframe tbody tr th:only-of-type {\n",
              "        vertical-align: middle;\n",
              "    }\n",
              "\n",
              "    .dataframe tbody tr th {\n",
              "        vertical-align: top;\n",
              "    }\n",
              "\n",
              "    .dataframe thead th {\n",
              "        text-align: right;\n",
              "    }\n",
              "</style>\n",
              "<table border=\"1\" class=\"dataframe\">\n",
              "  <thead>\n",
              "    <tr style=\"text-align: right;\">\n",
              "      <th></th>\n",
              "      <th>Weight</th>\n",
              "      <th>Height</th>\n",
              "      <th>Width</th>\n",
              "      <th>Bream</th>\n",
              "      <th>Parkki</th>\n",
              "      <th>Perch</th>\n",
              "      <th>Pike</th>\n",
              "      <th>Roach</th>\n",
              "      <th>Smelt</th>\n",
              "    </tr>\n",
              "  </thead>\n",
              "  <tbody>\n",
              "    <tr>\n",
              "      <th>0</th>\n",
              "      <td>242.0</td>\n",
              "      <td>11.5200</td>\n",
              "      <td>4.0200</td>\n",
              "      <td>1</td>\n",
              "      <td>0</td>\n",
              "      <td>0</td>\n",
              "      <td>0</td>\n",
              "      <td>0</td>\n",
              "      <td>0</td>\n",
              "    </tr>\n",
              "    <tr>\n",
              "      <th>1</th>\n",
              "      <td>290.0</td>\n",
              "      <td>12.4800</td>\n",
              "      <td>4.3056</td>\n",
              "      <td>1</td>\n",
              "      <td>0</td>\n",
              "      <td>0</td>\n",
              "      <td>0</td>\n",
              "      <td>0</td>\n",
              "      <td>0</td>\n",
              "    </tr>\n",
              "    <tr>\n",
              "      <th>2</th>\n",
              "      <td>340.0</td>\n",
              "      <td>12.3778</td>\n",
              "      <td>4.6961</td>\n",
              "      <td>1</td>\n",
              "      <td>0</td>\n",
              "      <td>0</td>\n",
              "      <td>0</td>\n",
              "      <td>0</td>\n",
              "      <td>0</td>\n",
              "    </tr>\n",
              "  </tbody>\n",
              "</table>\n",
              "</div>"
            ],
            "text/plain": [
              "   Weight   Height   Width  Bream  Parkki  Perch  Pike  Roach  Smelt\n",
              "0   242.0  11.5200  4.0200      1       0      0     0      0      0\n",
              "1   290.0  12.4800  4.3056      1       0      0     0      0      0\n",
              "2   340.0  12.3778  4.6961      1       0      0     0      0      0"
            ]
          },
          "metadata": {
            "tags": []
          },
          "execution_count": 128
        }
      ]
    },
    {
      "cell_type": "markdown",
      "metadata": {
        "id": "HmrlTNnM_9cj",
        "colab_type": "text"
      },
      "source": [
        "# Step 5: Build Machine Learning Model"
      ]
    },
    {
      "cell_type": "markdown",
      "metadata": {
        "id": "dRyuwHI5AHlC",
        "colab_type": "text"
      },
      "source": [
        "## Create Feature Matrix X and Target Variable y"
      ]
    },
    {
      "cell_type": "code",
      "metadata": {
        "id": "x4M6rZp8aDjP",
        "colab_type": "code",
        "colab": {}
      },
      "source": [
        "X = df6[['Height', 'Width', 'Bream', 'Parkki' ,'Perch', 'Pike', 'Roach', 'Smelt']] # Or can use df6.iloc[:,[1,2,3,4,5,6,7,8]]\n",
        "y = df6[['Weight']]"
      ],
      "execution_count": 0,
      "outputs": []
    },
    {
      "cell_type": "code",
      "metadata": {
        "id": "L6htXA3sZ8xN",
        "colab_type": "code",
        "outputId": "f8409edd-68d3-4f69-91a5-89b25522e3c4",
        "colab": {
          "base_uri": "https://localhost:8080/",
          "height": 87
        }
      },
      "source": [
        "X_train, X_test, y_train, y_test = train_test_split(X,y, test_size = 0.2)\n",
        "print('X_train dimension= ', X_train.shape)\n",
        "print('X_test dimension= ', X_test.shape)\n",
        "print('y_train dimension= ', y_train.shape)\n",
        "print('y_train dimension= ', y_test.shape)"
      ],
      "execution_count": 0,
      "outputs": [
        {
          "output_type": "stream",
          "text": [
            "X_train dimension=  (123, 8)\n",
            "X_test dimension=  (31, 8)\n",
            "y_train dimension=  (123, 1)\n",
            "y_train dimension=  (31, 1)\n"
          ],
          "name": "stdout"
        }
      ]
    },
    {
      "cell_type": "markdown",
      "metadata": {
        "id": "LX_0ORD1hsPd",
        "colab_type": "text"
      },
      "source": [
        "## Polynomial Features\n",
        "* Since we have multiple species, the relation between features(Height, Width) and Weight is not linear\n",
        "* Line won't be good fit to the given data and may result in under fitting. \n",
        "* We are going to use second degree polynomial feature, which will give us quadratic curve to fit the data.\n",
        " \n",
        "**Refer my notebook(Multivariate_Linear_Regression_Fish_Weight_Prediction) where I used Linear Regression  without polynomial features**\n",
        "\n"
      ]
    },
    {
      "cell_type": "code",
      "metadata": {
        "id": "AYo68uzgiA7v",
        "colab_type": "code",
        "outputId": "fa2532b4-56eb-4db2-8a3c-038c7a94b3ab",
        "colab": {
          "base_uri": "https://localhost:8080/",
          "height": 52
        }
      },
      "source": [
        "poly = PolynomialFeatures(degree = 2) \n",
        "X_poly = poly.fit_transform(X_train) \n",
        "poly.fit(X_poly, y_train) "
      ],
      "execution_count": 0,
      "outputs": [
        {
          "output_type": "execute_result",
          "data": {
            "text/plain": [
              "PolynomialFeatures(degree=2, include_bias=True, interaction_only=False,\n",
              "                   order='C')"
            ]
          },
          "metadata": {
            "tags": []
          },
          "execution_count": 154
        }
      ]
    },
    {
      "cell_type": "markdown",
      "metadata": {
        "id": "GUlmuz1SAmyl",
        "colab_type": "text"
      },
      "source": [
        "## Ordinary Least Squares Algorithm\n",
        "\n",
        "* Lets the train the model using Ordinary Least Squares Algorithm\n",
        "* This is one of the most basic linear regression algorithm.\n",
        "* Mathematical formula used by ordinary least square algorithm is as below,\n",
        "\n",
        "   ![ordinary_least_squares_formlua.png](https://github.com/satishgunjal/images/blob/master/ordinary_least_squares_formlua_1.png?raw=true)\n",
        "* The objective of Ordinary Least Square Algorithm is to minimize the residual sum of squares. Here the term residual means 'deviation of predicted value(Xw) from actual value(y)'\n",
        "* Note that, problem with ordinary least square model is size of coefficients increase exponentially with increase in model complexity"
      ]
    },
    {
      "cell_type": "code",
      "metadata": {
        "id": "sBKM-zbCAuJG",
        "colab_type": "code",
        "outputId": "810b1a0d-6db6-49a9-9046-645f926d17cf",
        "colab": {
          "base_uri": "https://localhost:8080/",
          "height": 35
        }
      },
      "source": [
        "lm = linear_model.LinearRegression() \n",
        "lm.fit(X_poly, y_train) "
      ],
      "execution_count": 0,
      "outputs": [
        {
          "output_type": "execute_result",
          "data": {
            "text/plain": [
              "LinearRegression(copy_X=True, fit_intercept=True, n_jobs=None, normalize=False)"
            ]
          },
          "metadata": {
            "tags": []
          },
          "execution_count": 155
        }
      ]
    },
    {
      "cell_type": "markdown",
      "metadata": {
        "id": "sj5d2rv0SKnJ",
        "colab_type": "text"
      },
      "source": [
        "## Understanding Training Results\n",
        "* If training is successful then we get the result like above. Where all the default values used by LinearRgression() model are displayed. If required we can also pass these values in fit method. We are not going to change any of these values for now."
      ]
    },
    {
      "cell_type": "code",
      "metadata": {
        "id": "pdbktV5U2k0p",
        "colab_type": "code",
        "outputId": "eb10598c-a014-400f-f101-cd9634bce615",
        "colab": {
          "base_uri": "https://localhost:8080/",
          "height": 35
        }
      },
      "source": [
        "predictions = lm.predict(poly.fit_transform(X_test))\n",
        "print('r2_score= ', metrics.r2_score(y_test, predictions))"
      ],
      "execution_count": 0,
      "outputs": [
        {
          "output_type": "stream",
          "text": [
            "r2_score=  0.9843737850614364\n"
          ],
          "name": "stdout"
        }
      ]
    },
    {
      "cell_type": "markdown",
      "metadata": {
        "id": "JyAeiXpQ28Dz",
        "colab_type": "text"
      },
      "source": [
        "## Model Score\n",
        "R-squared is statistical measure of how close the data to the fitted regression line. It is also known as coefficient of determination but since we have multiple features here we can also call it 'coefficient of multiple determination'\n",
        " \n",
        "\n"
      ]
    },
    {
      "cell_type": "markdown",
      "metadata": {
        "id": "9pTPr1kk4o8o",
        "colab_type": "text"
      },
      "source": [
        "## Predicting The Test Data\n",
        "* Check below table for weight from test data and predicted weight by our model\n",
        "* We will also plot the scatter plot of weight from test data vs predicted weight"
      ]
    },
    {
      "cell_type": "code",
      "metadata": {
        "id": "SshH5wiFicxa",
        "colab_type": "code",
        "outputId": "f39b7603-62ed-4b45-c267-6027e40c9020",
        "colab": {
          "base_uri": "https://localhost:8080/",
          "height": 147
        }
      },
      "source": [
        "predictedWeight = pd.DataFrame(predictions, columns=['Predicted Weight']) # Create new dataframe of column'Predicted Weight'\n",
        "actualWeight = pd.DataFrame(y_test)\n",
        "actualWeight = actualWeight.reset_index(drop=True) # Drop the index so that we can concat it, to create new dataframe\n",
        "df_actual_vs_predicted = pd.concat([actualWeight,predictedWeight],axis =1)\n",
        "df_actual_vs_predicted.T"
      ],
      "execution_count": 0,
      "outputs": [
        {
          "output_type": "execute_result",
          "data": {
            "text/html": [
              "<div>\n",
              "<style scoped>\n",
              "    .dataframe tbody tr th:only-of-type {\n",
              "        vertical-align: middle;\n",
              "    }\n",
              "\n",
              "    .dataframe tbody tr th {\n",
              "        vertical-align: top;\n",
              "    }\n",
              "\n",
              "    .dataframe thead th {\n",
              "        text-align: right;\n",
              "    }\n",
              "</style>\n",
              "<table border=\"1\" class=\"dataframe\">\n",
              "  <thead>\n",
              "    <tr style=\"text-align: right;\">\n",
              "      <th></th>\n",
              "      <th>0</th>\n",
              "      <th>1</th>\n",
              "      <th>2</th>\n",
              "      <th>3</th>\n",
              "      <th>4</th>\n",
              "      <th>5</th>\n",
              "      <th>6</th>\n",
              "      <th>7</th>\n",
              "      <th>8</th>\n",
              "      <th>9</th>\n",
              "      <th>10</th>\n",
              "      <th>11</th>\n",
              "      <th>12</th>\n",
              "      <th>13</th>\n",
              "      <th>14</th>\n",
              "      <th>15</th>\n",
              "      <th>16</th>\n",
              "      <th>17</th>\n",
              "      <th>18</th>\n",
              "      <th>19</th>\n",
              "      <th>20</th>\n",
              "      <th>21</th>\n",
              "      <th>22</th>\n",
              "      <th>23</th>\n",
              "      <th>24</th>\n",
              "      <th>25</th>\n",
              "      <th>26</th>\n",
              "      <th>27</th>\n",
              "      <th>28</th>\n",
              "      <th>29</th>\n",
              "      <th>30</th>\n",
              "    </tr>\n",
              "  </thead>\n",
              "  <tbody>\n",
              "    <tr>\n",
              "      <th>Weight</th>\n",
              "      <td>500.000000</td>\n",
              "      <td>80.000000</td>\n",
              "      <td>1650.000000</td>\n",
              "      <td>145.000000</td>\n",
              "      <td>7.500000</td>\n",
              "      <td>600.000000</td>\n",
              "      <td>265.000000</td>\n",
              "      <td>1000.000000</td>\n",
              "      <td>600.000000</td>\n",
              "      <td>120.000000</td>\n",
              "      <td>540.000000</td>\n",
              "      <td>150.000000</td>\n",
              "      <td>320.000000</td>\n",
              "      <td>300.000000</td>\n",
              "      <td>1000.000000</td>\n",
              "      <td>260.000000</td>\n",
              "      <td>180.0000</td>\n",
              "      <td>197.000000</td>\n",
              "      <td>9.800000</td>\n",
              "      <td>180.000000</td>\n",
              "      <td>12.200000</td>\n",
              "      <td>500.000000</td>\n",
              "      <td>273.000000</td>\n",
              "      <td>900.000000</td>\n",
              "      <td>475.000000</td>\n",
              "      <td>955.000000</td>\n",
              "      <td>87.000000</td>\n",
              "      <td>300.000000</td>\n",
              "      <td>820.000000</td>\n",
              "      <td>145.000000</td>\n",
              "      <td>145.000000</td>\n",
              "    </tr>\n",
              "    <tr>\n",
              "      <th>Predicted Weight</th>\n",
              "      <td>516.266142</td>\n",
              "      <td>101.025321</td>\n",
              "      <td>1664.916358</td>\n",
              "      <td>138.349196</td>\n",
              "      <td>8.563842</td>\n",
              "      <td>562.182649</td>\n",
              "      <td>227.464206</td>\n",
              "      <td>1059.780593</td>\n",
              "      <td>629.400103</td>\n",
              "      <td>107.310558</td>\n",
              "      <td>727.423661</td>\n",
              "      <td>144.644958</td>\n",
              "      <td>286.357043</td>\n",
              "      <td>335.950921</td>\n",
              "      <td>898.228593</td>\n",
              "      <td>235.577877</td>\n",
              "      <td>173.6796</td>\n",
              "      <td>189.934216</td>\n",
              "      <td>10.229318</td>\n",
              "      <td>163.991731</td>\n",
              "      <td>8.978168</td>\n",
              "      <td>500.303335</td>\n",
              "      <td>282.874746</td>\n",
              "      <td>866.949054</td>\n",
              "      <td>512.014096</td>\n",
              "      <td>913.822765</td>\n",
              "      <td>102.365671</td>\n",
              "      <td>285.907577</td>\n",
              "      <td>746.053757</td>\n",
              "      <td>165.799267</td>\n",
              "      <td>135.817644</td>\n",
              "    </tr>\n",
              "  </tbody>\n",
              "</table>\n",
              "</div>"
            ],
            "text/plain": [
              "                          0           1   ...          29          30\n",
              "Weight            500.000000   80.000000  ...  145.000000  145.000000\n",
              "Predicted Weight  516.266142  101.025321  ...  165.799267  135.817644\n",
              "\n",
              "[2 rows x 31 columns]"
            ]
          },
          "metadata": {
            "tags": []
          },
          "execution_count": 132
        }
      ]
    },
    {
      "cell_type": "code",
      "metadata": {
        "id": "1dsEtTQd5CCm",
        "colab_type": "code",
        "outputId": "e3502a66-95f1-43e3-e5de-ac6e85647567",
        "colab": {
          "base_uri": "https://localhost:8080/",
          "height": 421
        }
      },
      "source": [
        "plt.scatter(y_test, predictions)\n",
        "plt.xlabel('Weight From Test Data')\n",
        "plt.ylabel('Weight Predicted By Model')\n",
        "plt.rcParams[\"figure.figsize\"] = (10,6) # Custom figure size in inches\n",
        "plt.title(\"Weight From test Data Vs Weight Predicted By Model\")"
      ],
      "execution_count": 0,
      "outputs": [
        {
          "output_type": "execute_result",
          "data": {
            "text/plain": [
              "Text(0.5, 1.0, 'Weight From test Data Vs Weight Predicted By Model')"
            ]
          },
          "metadata": {
            "tags": []
          },
          "execution_count": 149
        },
        {
          "output_type": "display_data",
          "data": {
            "image/png": "[encoded data removed]",
            "text/plain": [
              "<Figure size 720x432 with 1 Axes>"
            ]
          },
          "metadata": {
            "tags": [],
            "needs_background": "light"
          }
        }
      ]
    },
    {
      "cell_type": "markdown",
      "metadata": {
        "id": "5vNS7s-7klGw",
        "colab_type": "text"
      },
      "source": [
        "# Step 6: Evaluating the Model\n",
        "\n",
        "Plot a histogram of the residuals."
      ]
    },
    {
      "cell_type": "code",
      "metadata": {
        "id": "HCo7BOSNlb8N",
        "colab_type": "code",
        "outputId": "b7d83ed7-6b7e-43e3-de44-f67d97cf5ae1",
        "colab": {
          "base_uri": "https://localhost:8080/",
          "height": 407
        }
      },
      "source": [
        "sns.distplot((y_test-predictions))\n",
        "plt.rcParams[\"figure.figsize\"] = (10,6) # Custom figure size in inches\n",
        "plt.title(\"Histogram of Residuals\")"
      ],
      "execution_count": 0,
      "outputs": [
        {
          "output_type": "execute_result",
          "data": {
            "text/plain": [
              "Text(0.5, 1.0, 'Histogram of Residuals')"
            ]
          },
          "metadata": {
            "tags": []
          },
          "execution_count": 150
        },
        {
          "output_type": "display_data",
          "data": {
            "image/png": "[encoded data removed]",
            "text/plain": [
              "<Figure size 720x432 with 1 Axes>"
            ]
          },
          "metadata": {
            "tags": [],
            "needs_background": "light"
          }
        }
      ]
    },
    {
      "cell_type": "markdown",
      "metadata": {
        "id": "k_L3i-df61z8",
        "colab_type": "text"
      },
      "source": [
        "# Conclusion\n",
        "* As you can see from above results our model score is 98%, which is very good.\n",
        "* And there are no negative weight values\n",
        "* So our approach of finding the outlier based on species and using second degree polynomial features worked!\n",
        "\n",
        " \n",
        "\n"
      ]
    }
  ]
}